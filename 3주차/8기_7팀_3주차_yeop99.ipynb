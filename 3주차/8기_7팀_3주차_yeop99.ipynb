{
 "cells": [
  {
   "cell_type": "code",
   "execution_count": 66,
   "id": "15d2e405",
   "metadata": {},
   "outputs": [],
   "source": [
    "import pandas as pd\n",
    "import numpy as np\n",
    "import seaborn as sns\n",
    "\n",
    "# 한글폰트 사용을 위해 설치\n",
    "# 아래 모듈을 설치하고 불러오면 별도의 한글폰트 설정이 필요 없습니다.\n",
    "# colab 에서도 아래 설치 문구의 주석을 제거하고 설치하고 import 해주기만 하면 한글폰트가 잘 나옵니다.\n",
    "# !pip install koreanize-matplotlib\n",
    "\n",
    "import koreanize_matplotlib\n",
    "\n",
    "# df = pd.read_csv(\"boostcourse-ds-510/data/NHIS_OPEN_GJ_2017.CSV.zip\", encoding=\"cp949\")\n",
    "df = pd.read_csv(\"https://raw.githubusercontent.com/corazzon/boostcourse-ds-510/master/data/NHIS_OPEN_GJ_2017.CSV.zip\",\n",
    "                 encoding=\"cp949\")"
   ]
  },
  {
   "cell_type": "markdown",
   "id": "043dde03",
   "metadata": {},
   "source": [
    "# Q1. \n",
    "**연령대별 허리둘레에 대한 기술통계를 구하려고 합니다. 다음 제공되는 딕셔너리를 통해 연령대코드(5세단위)를 \"연령대\"로 만들고 아래와 같은 기술통계값을 구해주세요!**"
   ]
  },
  {
   "cell_type": "code",
   "execution_count": 2,
   "id": "7576ddf4",
   "metadata": {},
   "outputs": [],
   "source": [
    "# 주어진 딕셔너리\n",
    "age_code = {1: '0~4세',\n",
    " 2: '5~9세',\n",
    " 3: '10~14세',\n",
    " 4: '15~19세',\n",
    " 5: '20~24세',\n",
    " 6: '25~29세',\n",
    " 7: '30~34세',\n",
    " 8: '35~39세',\n",
    " 9: '40~44세',\n",
    " 10: '45~49세',\n",
    " 11: '50~54세',\n",
    " 12: '55~59세',\n",
    " 13: '60~64세',\n",
    " 14: '65~69세',\n",
    " 15: '70~74세',\n",
    " 16: '75~79세',\n",
    " 17: '80~84세',\n",
    " 18: '85세+'}"
   ]
  },
  {
   "cell_type": "markdown",
   "id": "30d055d3",
   "metadata": {},
   "source": [
    "데이터를 미리보자"
   ]
  },
  {
   "cell_type": "code",
   "execution_count": 3,
   "id": "dce19adc",
   "metadata": {
    "scrolled": true
   },
   "outputs": [
    {
     "data": {
      "text/html": [
       "<div>\n",
       "<style scoped>\n",
       "    .dataframe tbody tr th:only-of-type {\n",
       "        vertical-align: middle;\n",
       "    }\n",
       "\n",
       "    .dataframe tbody tr th {\n",
       "        vertical-align: top;\n",
       "    }\n",
       "\n",
       "    .dataframe thead th {\n",
       "        text-align: right;\n",
       "    }\n",
       "</style>\n",
       "<table border=\"1\" class=\"dataframe\">\n",
       "  <thead>\n",
       "    <tr style=\"text-align: right;\">\n",
       "      <th></th>\n",
       "      <th>기준년도</th>\n",
       "      <th>가입자일련번호</th>\n",
       "      <th>성별코드</th>\n",
       "      <th>연령대코드(5세단위)</th>\n",
       "      <th>시도코드</th>\n",
       "      <th>신장(5Cm단위)</th>\n",
       "      <th>체중(5Kg 단위)</th>\n",
       "      <th>허리둘레</th>\n",
       "      <th>시력(좌)</th>\n",
       "      <th>시력(우)</th>\n",
       "      <th>...</th>\n",
       "      <th>감마지티피</th>\n",
       "      <th>흡연상태</th>\n",
       "      <th>음주여부</th>\n",
       "      <th>구강검진 수검여부</th>\n",
       "      <th>치아우식증유무</th>\n",
       "      <th>결손치유무</th>\n",
       "      <th>치아마모증유무</th>\n",
       "      <th>제3대구치(사랑니)이상</th>\n",
       "      <th>치석</th>\n",
       "      <th>데이터공개일자</th>\n",
       "    </tr>\n",
       "  </thead>\n",
       "  <tbody>\n",
       "    <tr>\n",
       "      <th>0</th>\n",
       "      <td>2017</td>\n",
       "      <td>1</td>\n",
       "      <td>1</td>\n",
       "      <td>13</td>\n",
       "      <td>46</td>\n",
       "      <td>170.0</td>\n",
       "      <td>65.0</td>\n",
       "      <td>91.0</td>\n",
       "      <td>1.0</td>\n",
       "      <td>1.2</td>\n",
       "      <td>...</td>\n",
       "      <td>25.0</td>\n",
       "      <td>3.0</td>\n",
       "      <td>0.0</td>\n",
       "      <td>1</td>\n",
       "      <td>NaN</td>\n",
       "      <td>NaN</td>\n",
       "      <td>NaN</td>\n",
       "      <td>NaN</td>\n",
       "      <td>1.0</td>\n",
       "      <td>20181126</td>\n",
       "    </tr>\n",
       "    <tr>\n",
       "      <th>1</th>\n",
       "      <td>2017</td>\n",
       "      <td>2</td>\n",
       "      <td>2</td>\n",
       "      <td>8</td>\n",
       "      <td>41</td>\n",
       "      <td>150.0</td>\n",
       "      <td>45.0</td>\n",
       "      <td>73.4</td>\n",
       "      <td>1.2</td>\n",
       "      <td>1.0</td>\n",
       "      <td>...</td>\n",
       "      <td>10.0</td>\n",
       "      <td>1.0</td>\n",
       "      <td>0.0</td>\n",
       "      <td>1</td>\n",
       "      <td>NaN</td>\n",
       "      <td>NaN</td>\n",
       "      <td>NaN</td>\n",
       "      <td>NaN</td>\n",
       "      <td>1.0</td>\n",
       "      <td>20181126</td>\n",
       "    </tr>\n",
       "    <tr>\n",
       "      <th>2</th>\n",
       "      <td>2017</td>\n",
       "      <td>3</td>\n",
       "      <td>1</td>\n",
       "      <td>8</td>\n",
       "      <td>45</td>\n",
       "      <td>175.0</td>\n",
       "      <td>75.0</td>\n",
       "      <td>94.0</td>\n",
       "      <td>1.0</td>\n",
       "      <td>0.8</td>\n",
       "      <td>...</td>\n",
       "      <td>136.0</td>\n",
       "      <td>1.0</td>\n",
       "      <td>0.0</td>\n",
       "      <td>1</td>\n",
       "      <td>NaN</td>\n",
       "      <td>NaN</td>\n",
       "      <td>NaN</td>\n",
       "      <td>NaN</td>\n",
       "      <td>0.0</td>\n",
       "      <td>20181126</td>\n",
       "    </tr>\n",
       "    <tr>\n",
       "      <th>3</th>\n",
       "      <td>2017</td>\n",
       "      <td>4</td>\n",
       "      <td>2</td>\n",
       "      <td>12</td>\n",
       "      <td>11</td>\n",
       "      <td>155.0</td>\n",
       "      <td>55.0</td>\n",
       "      <td>67.5</td>\n",
       "      <td>0.9</td>\n",
       "      <td>1.0</td>\n",
       "      <td>...</td>\n",
       "      <td>30.0</td>\n",
       "      <td>1.0</td>\n",
       "      <td>1.0</td>\n",
       "      <td>0</td>\n",
       "      <td>NaN</td>\n",
       "      <td>NaN</td>\n",
       "      <td>NaN</td>\n",
       "      <td>NaN</td>\n",
       "      <td>NaN</td>\n",
       "      <td>20181126</td>\n",
       "    </tr>\n",
       "    <tr>\n",
       "      <th>4</th>\n",
       "      <td>2017</td>\n",
       "      <td>5</td>\n",
       "      <td>1</td>\n",
       "      <td>8</td>\n",
       "      <td>41</td>\n",
       "      <td>175.0</td>\n",
       "      <td>75.0</td>\n",
       "      <td>93.0</td>\n",
       "      <td>1.5</td>\n",
       "      <td>1.5</td>\n",
       "      <td>...</td>\n",
       "      <td>68.0</td>\n",
       "      <td>3.0</td>\n",
       "      <td>0.0</td>\n",
       "      <td>0</td>\n",
       "      <td>NaN</td>\n",
       "      <td>NaN</td>\n",
       "      <td>NaN</td>\n",
       "      <td>NaN</td>\n",
       "      <td>NaN</td>\n",
       "      <td>20181126</td>\n",
       "    </tr>\n",
       "  </tbody>\n",
       "</table>\n",
       "<p>5 rows × 34 columns</p>\n",
       "</div>"
      ],
      "text/plain": [
       "   기준년도  가입자일련번호  성별코드  연령대코드(5세단위)  시도코드  신장(5Cm단위)  체중(5Kg 단위)  허리둘레  시력(좌)  \\\n",
       "0  2017        1     1           13    46      170.0        65.0  91.0    1.0   \n",
       "1  2017        2     2            8    41      150.0        45.0  73.4    1.2   \n",
       "2  2017        3     1            8    45      175.0        75.0  94.0    1.0   \n",
       "3  2017        4     2           12    11      155.0        55.0  67.5    0.9   \n",
       "4  2017        5     1            8    41      175.0        75.0  93.0    1.5   \n",
       "\n",
       "   시력(우)  ...  감마지티피  흡연상태  음주여부  구강검진 수검여부  치아우식증유무  결손치유무  치아마모증유무  \\\n",
       "0    1.2  ...   25.0   3.0   0.0          1      NaN    NaN      NaN   \n",
       "1    1.0  ...   10.0   1.0   0.0          1      NaN    NaN      NaN   \n",
       "2    0.8  ...  136.0   1.0   0.0          1      NaN    NaN      NaN   \n",
       "3    1.0  ...   30.0   1.0   1.0          0      NaN    NaN      NaN   \n",
       "4    1.5  ...   68.0   3.0   0.0          0      NaN    NaN      NaN   \n",
       "\n",
       "   제3대구치(사랑니)이상   치석   데이터공개일자  \n",
       "0           NaN  1.0  20181126  \n",
       "1           NaN  1.0  20181126  \n",
       "2           NaN  0.0  20181126  \n",
       "3           NaN  NaN  20181126  \n",
       "4           NaN  NaN  20181126  \n",
       "\n",
       "[5 rows x 34 columns]"
      ]
     },
     "execution_count": 3,
     "metadata": {},
     "output_type": "execute_result"
    }
   ],
   "source": [
    "df.head()"
   ]
  },
  {
   "cell_type": "markdown",
   "id": "79cbd98e",
   "metadata": {},
   "source": [
    "칼럼명을 살펴보자."
   ]
  },
  {
   "cell_type": "code",
   "execution_count": 10,
   "id": "39b1d094",
   "metadata": {},
   "outputs": [
    {
     "data": {
      "text/plain": [
       "Index(['기준년도', '가입자일련번호', '성별코드', '연령대코드(5세단위)', '시도코드', '신장(5Cm단위)',\n",
       "       '체중(5Kg 단위)', '허리둘레', '시력(좌)', '시력(우)', '청력(좌)', '청력(우)', '수축기혈압',\n",
       "       '이완기혈압', '식전혈당(공복혈당)', '총콜레스테롤', '트리글리세라이드', 'HDL콜레스테롤', 'LDL콜레스테롤',\n",
       "       '혈색소', '요단백', '혈청크레아티닌', '(혈청지오티)AST', '(혈청지오티)ALT', '감마지티피', '흡연상태',\n",
       "       '음주여부', '구강검진 수검여부', '치아우식증유무', '결손치유무', '치아마모증유무', '제3대구치(사랑니)이상',\n",
       "       '치석', '데이터공개일자'],\n",
       "      dtype='object')"
      ]
     },
     "execution_count": 10,
     "metadata": {},
     "output_type": "execute_result"
    }
   ],
   "source": [
    "df.columns"
   ]
  },
  {
   "cell_type": "markdown",
   "id": "94dc10f6",
   "metadata": {},
   "source": [
    "연령대코드 칼럼의 카테고리 종류가 어떻게 있나 보자."
   ]
  },
  {
   "cell_type": "code",
   "execution_count": 7,
   "id": "4381eed0",
   "metadata": {},
   "outputs": [
    {
     "data": {
      "text/plain": [
       "array([13,  8, 12,  6, 17, 10,  9, 15,  5, 11,  7, 14, 16, 18],\n",
       "      dtype=int64)"
      ]
     },
     "execution_count": 7,
     "metadata": {},
     "output_type": "execute_result"
    }
   ],
   "source": [
    "df[\"연령대코드(5세단위)\"].unique()"
   ]
  },
  {
   "cell_type": "markdown",
   "id": "3fe463f4",
   "metadata": {},
   "source": [
    "5부터 시작하여 18까지 있고 1-4값은 없는 것을 알 수 있다. (왜 출력예시가 0세가 아닌 20세부터임을 이해할 수 있다.)"
   ]
  },
  {
   "cell_type": "markdown",
   "id": "4e424d9a",
   "metadata": {},
   "source": [
    "연령대코드 칼럼을 주어진 딕셔너리를 이용하여 변환해보자."
   ]
  },
  {
   "cell_type": "code",
   "execution_count": 37,
   "id": "85f20e9b",
   "metadata": {},
   "outputs": [
    {
     "data": {
      "text/plain": [
       "0         13\n",
       "1          8\n",
       "2          8\n",
       "3         12\n",
       "4          8\n",
       "          ..\n",
       "999995     9\n",
       "999996     9\n",
       "999997    12\n",
       "999998    11\n",
       "999999     9\n",
       "Name: 연령대코드(5세단위), Length: 1000000, dtype: int64"
      ]
     },
     "execution_count": 37,
     "metadata": {},
     "output_type": "execute_result"
    }
   ],
   "source": [
    "# 연령대 코드 칼럼을 col 변수에 담고\n",
    "col = df[\"연령대코드(5세단위)\"].copy()\n",
    "col"
   ]
  },
  {
   "cell_type": "code",
   "execution_count": 38,
   "id": "af38972b",
   "metadata": {},
   "outputs": [
    {
     "data": {
      "text/plain": [
       "[1, 2, 3, 4, 5, 6, 7, 8, 9, 10, 11, 12, 13, 14, 15, 16, 17, 18]"
      ]
     },
     "execution_count": 38,
     "metadata": {},
     "output_type": "execute_result"
    }
   ],
   "source": [
    "# 딕셔너리 key값을 리스트로 변환해서 key 변수에 담는다.\n",
    "key = list(age_code.keys())\n",
    "key"
   ]
  },
  {
   "cell_type": "code",
   "execution_count": 39,
   "id": "72804b36",
   "metadata": {},
   "outputs": [],
   "source": [
    "# 조건문과 반복문으로 변환하고\n",
    "\n",
    "for i in range(1000000):\n",
    "    for j in range(18):\n",
    "        if col[i] == key[j]:\n",
    "            col[i] = age_code[j]"
   ]
  },
  {
   "cell_type": "code",
   "execution_count": 33,
   "id": "263be20a",
   "metadata": {},
   "outputs": [
    {
     "data": {
      "text/plain": [
       "0         55~59세\n",
       "1         30~34세\n",
       "2         30~34세\n",
       "3         50~54세\n",
       "4         30~34세\n",
       "           ...  \n",
       "999995    35~39세\n",
       "999996    35~39세\n",
       "999997    50~54세\n",
       "999998    45~49세\n",
       "999999    35~39세\n",
       "Name: 연령대코드(5세단위), Length: 1000000, dtype: object"
      ]
     },
     "execution_count": 33,
     "metadata": {},
     "output_type": "execute_result"
    }
   ],
   "source": [
    "# 확인한다.\n",
    "col"
   ]
  },
  {
   "cell_type": "code",
   "execution_count": 129,
   "id": "71c754de",
   "metadata": {
    "scrolled": false
   },
   "outputs": [
    {
     "data": {
      "text/plain": [
       "0         55~59세\n",
       "1         30~34세\n",
       "2         30~34세\n",
       "3         50~54세\n",
       "4         30~34세\n",
       "           ...  \n",
       "999995    35~39세\n",
       "999996    35~39세\n",
       "999997    50~54세\n",
       "999998    45~49세\n",
       "999999    35~39세\n",
       "Name: 연령대, Length: 1000000, dtype: object"
      ]
     },
     "execution_count": 129,
     "metadata": {},
     "output_type": "execute_result"
    }
   ],
   "source": [
    "# 컬럼을 추가하자\n",
    "\n",
    "df[\"연령대\"] = col\n",
    "df[\"연령대\"]"
   ]
  },
  {
   "cell_type": "code",
   "execution_count": 131,
   "id": "4d14128c",
   "metadata": {},
   "outputs": [
    {
     "data": {
      "text/plain": [
       "Index(['기준년도', '가입자일련번호', '성별코드', '연령대코드(5세단위)', '시도코드', '신장(5Cm단위)',\n",
       "       '체중(5Kg 단위)', '허리둘레', '시력(좌)', '시력(우)', '청력(좌)', '청력(우)', '수축기혈압',\n",
       "       '이완기혈압', '식전혈당(공복혈당)', '총콜레스테롤', '트리글리세라이드', 'HDL콜레스테롤', 'LDL콜레스테롤',\n",
       "       '혈색소', '요단백', '혈청크레아티닌', '(혈청지오티)AST', '(혈청지오티)ALT', '감마지티피', '흡연상태',\n",
       "       '음주여부', '구강검진 수검여부', '치아우식증유무', '결손치유무', '치아마모증유무', '제3대구치(사랑니)이상',\n",
       "       '치석', '데이터공개일자', '흡연', '음주', '연령대'],\n",
       "      dtype='object')"
      ]
     },
     "execution_count": 131,
     "metadata": {},
     "output_type": "execute_result"
    }
   ],
   "source": [
    "# 잘 추가되었나 컬럼을 확인해보자\n",
    "df.columns"
   ]
  },
  {
   "cell_type": "markdown",
   "id": "1ea54eda",
   "metadata": {},
   "source": [
    "피봇테이블을 이용하여 연령대에 따른 허리둘레 데이터의 기술통계값을 보자."
   ]
  },
  {
   "cell_type": "code",
   "execution_count": 49,
   "id": "5b920cc9",
   "metadata": {},
   "outputs": [
    {
     "data": {
      "text/html": [
       "<div>\n",
       "<style scoped>\n",
       "    .dataframe tbody tr th:only-of-type {\n",
       "        vertical-align: middle;\n",
       "    }\n",
       "\n",
       "    .dataframe tbody tr th {\n",
       "        vertical-align: top;\n",
       "    }\n",
       "\n",
       "    .dataframe thead th {\n",
       "        text-align: right;\n",
       "    }\n",
       "</style>\n",
       "<table border=\"1\" class=\"dataframe\">\n",
       "  <thead>\n",
       "    <tr style=\"text-align: right;\">\n",
       "      <th></th>\n",
       "      <th>25%</th>\n",
       "      <th>50%</th>\n",
       "      <th>75%</th>\n",
       "      <th>count</th>\n",
       "      <th>max</th>\n",
       "      <th>mean</th>\n",
       "      <th>min</th>\n",
       "      <th>std</th>\n",
       "    </tr>\n",
       "    <tr>\n",
       "      <th>연령대</th>\n",
       "      <th></th>\n",
       "      <th></th>\n",
       "      <th></th>\n",
       "      <th></th>\n",
       "      <th></th>\n",
       "      <th></th>\n",
       "      <th></th>\n",
       "      <th></th>\n",
       "    </tr>\n",
       "  </thead>\n",
       "  <tbody>\n",
       "    <tr>\n",
       "      <th>15~19세</th>\n",
       "      <td>67.5</td>\n",
       "      <td>73.4</td>\n",
       "      <td>81.0</td>\n",
       "      <td>23244.0</td>\n",
       "      <td>999.0</td>\n",
       "      <td>75.152220</td>\n",
       "      <td>47.5</td>\n",
       "      <td>12.251781</td>\n",
       "    </tr>\n",
       "    <tr>\n",
       "      <th>20~24세</th>\n",
       "      <td>69.0</td>\n",
       "      <td>76.5</td>\n",
       "      <td>84.2</td>\n",
       "      <td>64898.0</td>\n",
       "      <td>999.0</td>\n",
       "      <td>77.704783</td>\n",
       "      <td>48.0</td>\n",
       "      <td>16.735734</td>\n",
       "    </tr>\n",
       "    <tr>\n",
       "      <th>25~29세</th>\n",
       "      <td>72.0</td>\n",
       "      <td>80.1</td>\n",
       "      <td>88.0</td>\n",
       "      <td>77517.0</td>\n",
       "      <td>999.0</td>\n",
       "      <td>81.089268</td>\n",
       "      <td>49.0</td>\n",
       "      <td>22.988111</td>\n",
       "    </tr>\n",
       "    <tr>\n",
       "      <th>30~34세</th>\n",
       "      <td>75.0</td>\n",
       "      <td>82.0</td>\n",
       "      <td>89.0</td>\n",
       "      <td>84621.0</td>\n",
       "      <td>999.0</td>\n",
       "      <td>82.094012</td>\n",
       "      <td>9.2</td>\n",
       "      <td>14.522095</td>\n",
       "    </tr>\n",
       "    <tr>\n",
       "      <th>35~39세</th>\n",
       "      <td>73.0</td>\n",
       "      <td>80.0</td>\n",
       "      <td>87.0</td>\n",
       "      <td>130912.0</td>\n",
       "      <td>999.0</td>\n",
       "      <td>80.488308</td>\n",
       "      <td>42.1</td>\n",
       "      <td>10.803098</td>\n",
       "    </tr>\n",
       "    <tr>\n",
       "      <th>40~44세</th>\n",
       "      <td>74.0</td>\n",
       "      <td>81.0</td>\n",
       "      <td>87.0</td>\n",
       "      <td>118357.0</td>\n",
       "      <td>137.0</td>\n",
       "      <td>80.822449</td>\n",
       "      <td>40.0</td>\n",
       "      <td>9.521622</td>\n",
       "    </tr>\n",
       "    <tr>\n",
       "      <th>45~49세</th>\n",
       "      <td>75.0</td>\n",
       "      <td>81.0</td>\n",
       "      <td>87.0</td>\n",
       "      <td>129833.0</td>\n",
       "      <td>142.0</td>\n",
       "      <td>81.062754</td>\n",
       "      <td>6.5</td>\n",
       "      <td>9.095438</td>\n",
       "    </tr>\n",
       "    <tr>\n",
       "      <th>50~54세</th>\n",
       "      <td>76.0</td>\n",
       "      <td>82.0</td>\n",
       "      <td>87.5</td>\n",
       "      <td>112175.0</td>\n",
       "      <td>139.0</td>\n",
       "      <td>81.799905</td>\n",
       "      <td>32.0</td>\n",
       "      <td>8.730398</td>\n",
       "    </tr>\n",
       "    <tr>\n",
       "      <th>55~59세</th>\n",
       "      <td>77.0</td>\n",
       "      <td>83.0</td>\n",
       "      <td>88.0</td>\n",
       "      <td>106491.0</td>\n",
       "      <td>137.0</td>\n",
       "      <td>82.722769</td>\n",
       "      <td>0.0</td>\n",
       "      <td>8.596176</td>\n",
       "    </tr>\n",
       "    <tr>\n",
       "      <th>60~64세</th>\n",
       "      <td>78.0</td>\n",
       "      <td>83.5</td>\n",
       "      <td>89.0</td>\n",
       "      <td>53624.0</td>\n",
       "      <td>129.0</td>\n",
       "      <td>83.588500</td>\n",
       "      <td>50.0</td>\n",
       "      <td>8.443542</td>\n",
       "    </tr>\n",
       "    <tr>\n",
       "      <th>65~69세</th>\n",
       "      <td>78.0</td>\n",
       "      <td>84.0</td>\n",
       "      <td>90.0</td>\n",
       "      <td>51586.0</td>\n",
       "      <td>129.8</td>\n",
       "      <td>84.063372</td>\n",
       "      <td>51.0</td>\n",
       "      <td>8.539639</td>\n",
       "    </tr>\n",
       "    <tr>\n",
       "      <th>70~74세</th>\n",
       "      <td>78.0</td>\n",
       "      <td>84.0</td>\n",
       "      <td>90.0</td>\n",
       "      <td>25972.0</td>\n",
       "      <td>122.0</td>\n",
       "      <td>84.200127</td>\n",
       "      <td>50.0</td>\n",
       "      <td>8.772306</td>\n",
       "    </tr>\n",
       "    <tr>\n",
       "      <th>75~79세</th>\n",
       "      <td>78.0</td>\n",
       "      <td>84.0</td>\n",
       "      <td>90.0</td>\n",
       "      <td>16205.0</td>\n",
       "      <td>120.0</td>\n",
       "      <td>83.751435</td>\n",
       "      <td>38.0</td>\n",
       "      <td>9.041091</td>\n",
       "    </tr>\n",
       "    <tr>\n",
       "      <th>80~84세</th>\n",
       "      <td>75.0</td>\n",
       "      <td>81.5</td>\n",
       "      <td>88.0</td>\n",
       "      <td>4125.0</td>\n",
       "      <td>999.0</td>\n",
       "      <td>81.736703</td>\n",
       "      <td>34.0</td>\n",
       "      <td>17.325969</td>\n",
       "    </tr>\n",
       "  </tbody>\n",
       "</table>\n",
       "</div>"
      ],
      "text/plain": [
       "         25%   50%   75%     count    max       mean   min        std\n",
       "연령대                                                                  \n",
       "15~19세  67.5  73.4  81.0   23244.0  999.0  75.152220  47.5  12.251781\n",
       "20~24세  69.0  76.5  84.2   64898.0  999.0  77.704783  48.0  16.735734\n",
       "25~29세  72.0  80.1  88.0   77517.0  999.0  81.089268  49.0  22.988111\n",
       "30~34세  75.0  82.0  89.0   84621.0  999.0  82.094012   9.2  14.522095\n",
       "35~39세  73.0  80.0  87.0  130912.0  999.0  80.488308  42.1  10.803098\n",
       "40~44세  74.0  81.0  87.0  118357.0  137.0  80.822449  40.0   9.521622\n",
       "45~49세  75.0  81.0  87.0  129833.0  142.0  81.062754   6.5   9.095438\n",
       "50~54세  76.0  82.0  87.5  112175.0  139.0  81.799905  32.0   8.730398\n",
       "55~59세  77.0  83.0  88.0  106491.0  137.0  82.722769   0.0   8.596176\n",
       "60~64세  78.0  83.5  89.0   53624.0  129.0  83.588500  50.0   8.443542\n",
       "65~69세  78.0  84.0  90.0   51586.0  129.8  84.063372  51.0   8.539639\n",
       "70~74세  78.0  84.0  90.0   25972.0  122.0  84.200127  50.0   8.772306\n",
       "75~79세  78.0  84.0  90.0   16205.0  120.0  83.751435  38.0   9.041091\n",
       "80~84세  75.0  81.5  88.0    4125.0  999.0  81.736703  34.0  17.325969"
      ]
     },
     "execution_count": 49,
     "metadata": {},
     "output_type": "execute_result"
    }
   ],
   "source": [
    "pd.pivot_table(df, index=\"연령대\", values=\"허리둘레\", aggfunc=\"describe\")"
   ]
  },
  {
   "attachments": {
    "image.png": {
     "image/png": "[encoded data removed]"
    }
   },
   "cell_type": "markdown",
   "id": "a03d782c",
   "metadata": {},
   "source": [
    "# Q2\n",
    "**\"음주여부\", \"흡연상태\", \"연령대코드(5세단위)\", \"성별코드\"에 대한 상관계수를 구하고 시각화 해주세요.**\n",
    "* 다음의 결과가 나오도록 합니다. 이 때 그래프의 색상, 스타일 표현방식에 차이가 있더라도 상관계수값이 차이가 없다면 문제 없습니다.\n",
    "![image.png](attachment:image.png)"
   ]
  },
  {
   "cell_type": "markdown",
   "id": "81876238",
   "metadata": {},
   "source": [
    "상관계수에 사용할 컬럼을 변수에 담자."
   ]
  },
  {
   "cell_type": "code",
   "execution_count": 54,
   "id": "6dde907d",
   "metadata": {},
   "outputs": [
    {
     "data": {
      "text/plain": [
       "['음주여부', '흡연상태', '연령대코드(5세단위)', '성별코드']"
      ]
     },
     "execution_count": 54,
     "metadata": {},
     "output_type": "execute_result"
    }
   ],
   "source": [
    "columns = [\"음주여부\", \"흡연상태\", \"연령대코드(5세단위)\", \"성별코드\"]\n",
    "columns"
   ]
  },
  {
   "cell_type": "markdown",
   "id": "4919aeb1",
   "metadata": {},
   "source": [
    "해당 컬럼만 가져오고 상관계수를 구해서 df_corr 변수에 담자."
   ]
  },
  {
   "cell_type": "code",
   "execution_count": 56,
   "id": "2479c612",
   "metadata": {},
   "outputs": [
    {
     "data": {
      "text/html": [
       "<div>\n",
       "<style scoped>\n",
       "    .dataframe tbody tr th:only-of-type {\n",
       "        vertical-align: middle;\n",
       "    }\n",
       "\n",
       "    .dataframe tbody tr th {\n",
       "        vertical-align: top;\n",
       "    }\n",
       "\n",
       "    .dataframe thead th {\n",
       "        text-align: right;\n",
       "    }\n",
       "</style>\n",
       "<table border=\"1\" class=\"dataframe\">\n",
       "  <thead>\n",
       "    <tr style=\"text-align: right;\">\n",
       "      <th></th>\n",
       "      <th>음주여부</th>\n",
       "      <th>흡연상태</th>\n",
       "      <th>연령대코드(5세단위)</th>\n",
       "      <th>성별코드</th>\n",
       "    </tr>\n",
       "  </thead>\n",
       "  <tbody>\n",
       "    <tr>\n",
       "      <th>음주여부</th>\n",
       "      <td>1.000000</td>\n",
       "      <td>0.352014</td>\n",
       "      <td>-0.283296</td>\n",
       "      <td>-0.368630</td>\n",
       "    </tr>\n",
       "    <tr>\n",
       "      <th>흡연상태</th>\n",
       "      <td>0.352014</td>\n",
       "      <td>1.000000</td>\n",
       "      <td>-0.125714</td>\n",
       "      <td>-0.588491</td>\n",
       "    </tr>\n",
       "    <tr>\n",
       "      <th>연령대코드(5세단위)</th>\n",
       "      <td>-0.283296</td>\n",
       "      <td>-0.125714</td>\n",
       "      <td>1.000000</td>\n",
       "      <td>0.080093</td>\n",
       "    </tr>\n",
       "    <tr>\n",
       "      <th>성별코드</th>\n",
       "      <td>-0.368630</td>\n",
       "      <td>-0.588491</td>\n",
       "      <td>0.080093</td>\n",
       "      <td>1.000000</td>\n",
       "    </tr>\n",
       "  </tbody>\n",
       "</table>\n",
       "</div>"
      ],
      "text/plain": [
       "                 음주여부      흡연상태  연령대코드(5세단위)      성별코드\n",
       "음주여부         1.000000  0.352014    -0.283296 -0.368630\n",
       "흡연상태         0.352014  1.000000    -0.125714 -0.588491\n",
       "연령대코드(5세단위) -0.283296 -0.125714     1.000000  0.080093\n",
       "성별코드        -0.368630 -0.588491     0.080093  1.000000"
      ]
     },
     "execution_count": 56,
     "metadata": {},
     "output_type": "execute_result"
    }
   ],
   "source": [
    "df_corr = df[columns].corr()\n",
    "df_corr"
   ]
  },
  {
   "cell_type": "markdown",
   "id": "316b929a",
   "metadata": {},
   "source": [
    "heatmap으로 시각화하자"
   ]
  },
  {
   "cell_type": "code",
   "execution_count": 58,
   "id": "0fde1eb2",
   "metadata": {
    "scrolled": true
   },
   "outputs": [
    {
     "data": {
      "text/plain": [
       "<AxesSubplot:>"
      ]
     },
     "execution_count": 58,
     "metadata": {},
     "output_type": "execute_result"
    },
    {
     "data": {
      "image/png": "[encoded data removed]",
      "text/plain": [
       "<Figure size 432x288 with 2 Axes>"
      ]
     },
     "metadata": {
      "needs_background": "light"
     },
     "output_type": "display_data"
    }
   ],
   "source": [
    "mask = np.triu(np.ones_like(df_corr, dtype=bool))  # 반쪽만 보이기\n",
    "\n",
    "sns.heatmap(df_corr, annot=True, fmt='.2f', mask=mask)"
   ]
  },
  {
   "cell_type": "markdown",
   "id": "b233fd91",
   "metadata": {},
   "source": [
    "**음주와 흡연 모두 성별과 상관관계가 가장 높은 것이 흥미로웠다.  \n",
    "흡연과 연령의 상관관계가 적은 것도 예상치 못한 결과였다.  \n",
    "음주와 흡연은 더 높은 양의 상관관계인줄 예상했는데 그렇지 않았다.**"
   ]
  },
  {
   "cell_type": "markdown",
   "id": "45fba132",
   "metadata": {},
   "source": [
    "# Q3.\n",
    "**흡연하는 사람과 음주하는 사람들의 수는 얼마나 차이가 있을까요?**\n",
    "* 건강보험에서 제공하고 있는 데이터는 용량을 줄이기 위해 대부분의 데이터를 숫자 형태로 제공하고 있습니다. replace 기능을 사용하면 딕셔너리의 값을 의미하는 문자 형태로 변경해 볼 수 있습니다. 다음 제공되는 딕셔너리 값을 사용하여 숫자가 의미하는 문자 형태로 변경한 뒤 전체 데이터에서 음주와 흡연에 대한 교차 테이블을 구해 각 해당 빈도수를 구하고 시각화 해주세요!\n",
    "* groupby, pivot_table로 구할 수도 있지만, 수업에서는 다루지 않았던 pandas의 crosstab 기능을 사용해서도 비교적 쉽게 구할 수 있습니다.\n",
    "* crosstab 을 사용할 때는 다음의 문서를 참고하여 구해보세요. pandas.crosstab — pandas documentation\n",
    "* 그리고 막대그래프를 통해 결과를 시각화해주세요! 시각화를 할 때 그래프의 스타일이나 막대의 색상 등이 달라도 상관 없으니 사용하고 싶은 스타일을 적용해서 시각화해도 좋습니다."
   ]
  },
  {
   "cell_type": "markdown",
   "id": "98869110",
   "metadata": {},
   "source": [
    "**예측: 아마도 흡연자 중에 음주자가 더 많을 것이다.** "
   ]
  },
  {
   "cell_type": "code",
   "execution_count": 59,
   "id": "8b098a5c",
   "metadata": {},
   "outputs": [],
   "source": [
    "# 흡연 1(피우지 않는다), 2(이전에 피웠으나 끊었다), 3(현재도 피우고 있다)\n",
    "# 음주 0(마시지 않은다), 1(마신다)\n",
    "smoke = {1 : \"흡연안함\", 2: \"끊음\", 3: \"흡연중\"}\n",
    "drink = {0: \"안마심\", 1: \"마심\"}\n",
    "\n",
    "# df[\"흡연\"]\n",
    "# df[\"음주\"]"
   ]
  },
  {
   "cell_type": "markdown",
   "id": "1651f12d",
   "metadata": {},
   "source": [
    "replace 메서드를 이용하여 흡연과 음주 컬럼의 값들을 문자형태로 바꾼 칼럼을 추가하자"
   ]
  },
  {
   "cell_type": "code",
   "execution_count": 132,
   "id": "68908aa2",
   "metadata": {},
   "outputs": [
    {
     "data": {
      "text/html": [
       "<div>\n",
       "<style scoped>\n",
       "    .dataframe tbody tr th:only-of-type {\n",
       "        vertical-align: middle;\n",
       "    }\n",
       "\n",
       "    .dataframe tbody tr th {\n",
       "        vertical-align: top;\n",
       "    }\n",
       "\n",
       "    .dataframe thead th {\n",
       "        text-align: right;\n",
       "    }\n",
       "</style>\n",
       "<table border=\"1\" class=\"dataframe\">\n",
       "  <thead>\n",
       "    <tr style=\"text-align: right;\">\n",
       "      <th></th>\n",
       "      <th>흡연상태</th>\n",
       "      <th>음주여부</th>\n",
       "    </tr>\n",
       "  </thead>\n",
       "  <tbody>\n",
       "    <tr>\n",
       "      <th>0</th>\n",
       "      <td>흡연중</td>\n",
       "      <td>안마심</td>\n",
       "    </tr>\n",
       "    <tr>\n",
       "      <th>1</th>\n",
       "      <td>흡연안함</td>\n",
       "      <td>안마심</td>\n",
       "    </tr>\n",
       "    <tr>\n",
       "      <th>2</th>\n",
       "      <td>흡연안함</td>\n",
       "      <td>안마심</td>\n",
       "    </tr>\n",
       "    <tr>\n",
       "      <th>3</th>\n",
       "      <td>흡연안함</td>\n",
       "      <td>마심</td>\n",
       "    </tr>\n",
       "    <tr>\n",
       "      <th>4</th>\n",
       "      <td>흡연중</td>\n",
       "      <td>안마심</td>\n",
       "    </tr>\n",
       "  </tbody>\n",
       "</table>\n",
       "</div>"
      ],
      "text/plain": [
       "   흡연상태 음주여부\n",
       "0   흡연중  안마심\n",
       "1  흡연안함  안마심\n",
       "2  흡연안함  안마심\n",
       "3  흡연안함   마심\n",
       "4   흡연중  안마심"
      ]
     },
     "execution_count": 132,
     "metadata": {},
     "output_type": "execute_result"
    }
   ],
   "source": [
    "# 우선 바꾼 컬럼들을 df_re변수에 저장하자\n",
    "df_re = df.replace({\"흡연상태\": smoke, \"음주여부\": drink})\n",
    "df_re[[\"흡연상태\", \"음주여부\"]].head()"
   ]
  },
  {
   "cell_type": "code",
   "execution_count": 133,
   "id": "db723540",
   "metadata": {},
   "outputs": [
    {
     "data": {
      "text/html": [
       "<div>\n",
       "<style scoped>\n",
       "    .dataframe tbody tr th:only-of-type {\n",
       "        vertical-align: middle;\n",
       "    }\n",
       "\n",
       "    .dataframe tbody tr th {\n",
       "        vertical-align: top;\n",
       "    }\n",
       "\n",
       "    .dataframe thead th {\n",
       "        text-align: right;\n",
       "    }\n",
       "</style>\n",
       "<table border=\"1\" class=\"dataframe\">\n",
       "  <thead>\n",
       "    <tr style=\"text-align: right;\">\n",
       "      <th></th>\n",
       "      <th>흡연</th>\n",
       "      <th>음주</th>\n",
       "    </tr>\n",
       "  </thead>\n",
       "  <tbody>\n",
       "    <tr>\n",
       "      <th>0</th>\n",
       "      <td>흡연중</td>\n",
       "      <td>안마심</td>\n",
       "    </tr>\n",
       "    <tr>\n",
       "      <th>1</th>\n",
       "      <td>흡연안함</td>\n",
       "      <td>안마심</td>\n",
       "    </tr>\n",
       "    <tr>\n",
       "      <th>2</th>\n",
       "      <td>흡연안함</td>\n",
       "      <td>안마심</td>\n",
       "    </tr>\n",
       "    <tr>\n",
       "      <th>3</th>\n",
       "      <td>흡연안함</td>\n",
       "      <td>마심</td>\n",
       "    </tr>\n",
       "    <tr>\n",
       "      <th>4</th>\n",
       "      <td>흡연중</td>\n",
       "      <td>안마심</td>\n",
       "    </tr>\n",
       "  </tbody>\n",
       "</table>\n",
       "</div>"
      ],
      "text/plain": [
       "     흡연   음주\n",
       "0   흡연중  안마심\n",
       "1  흡연안함  안마심\n",
       "2  흡연안함  안마심\n",
       "3  흡연안함   마심\n",
       "4   흡연중  안마심"
      ]
     },
     "execution_count": 133,
     "metadata": {},
     "output_type": "execute_result"
    }
   ],
   "source": [
    "# df에 \"흡연\", \"음주\" 컬럼을 추가하자\n",
    "\n",
    "df[\"흡연\"] = df_re[\"흡연상태\"]\n",
    "df[\"음주\"] = df_re[\"음주여부\"]\n",
    "df[[\"흡연\", \"음주\"]].head()"
   ]
  },
  {
   "cell_type": "markdown",
   "id": "bbcea792",
   "metadata": {},
   "source": [
    "crosstab 기능을 이용하여 교차 테이블을 구하자"
   ]
  },
  {
   "cell_type": "code",
   "execution_count": 81,
   "id": "15478b9d",
   "metadata": {},
   "outputs": [
    {
     "data": {
      "text/html": [
       "<div>\n",
       "<style scoped>\n",
       "    .dataframe tbody tr th:only-of-type {\n",
       "        vertical-align: middle;\n",
       "    }\n",
       "\n",
       "    .dataframe tbody tr th {\n",
       "        vertical-align: top;\n",
       "    }\n",
       "\n",
       "    .dataframe thead th {\n",
       "        text-align: right;\n",
       "    }\n",
       "</style>\n",
       "<table border=\"1\" class=\"dataframe\">\n",
       "  <thead>\n",
       "    <tr style=\"text-align: right;\">\n",
       "      <th>흡연</th>\n",
       "      <th>끊음</th>\n",
       "      <th>흡연안함</th>\n",
       "      <th>흡연중</th>\n",
       "    </tr>\n",
       "    <tr>\n",
       "      <th>음주</th>\n",
       "      <th></th>\n",
       "      <th></th>\n",
       "      <th></th>\n",
       "    </tr>\n",
       "  </thead>\n",
       "  <tbody>\n",
       "    <tr>\n",
       "      <th>마심</th>\n",
       "      <td>120779</td>\n",
       "      <td>213743</td>\n",
       "      <td>162166</td>\n",
       "    </tr>\n",
       "    <tr>\n",
       "      <th>안마심</th>\n",
       "      <td>55334</td>\n",
       "      <td>394503</td>\n",
       "      <td>52845</td>\n",
       "    </tr>\n",
       "  </tbody>\n",
       "</table>\n",
       "</div>"
      ],
      "text/plain": [
       "흡연       끊음    흡연안함     흡연중\n",
       "음주                         \n",
       "마심   120779  213743  162166\n",
       "안마심   55334  394503   52845"
      ]
     },
     "execution_count": 81,
     "metadata": {},
     "output_type": "execute_result"
    }
   ],
   "source": [
    "pd.crosstab(df[\"음주\"], df[\"흡연\"], rownames=[\"음주\"], colnames=[\"흡연\"])"
   ]
  },
  {
   "cell_type": "markdown",
   "id": "da46a58c",
   "metadata": {},
   "source": [
    "막대그래프로 시각화해보자"
   ]
  },
  {
   "cell_type": "code",
   "execution_count": 82,
   "id": "6aa0b5dc",
   "metadata": {
    "scrolled": true
   },
   "outputs": [
    {
     "data": {
      "text/plain": [
       "<AxesSubplot:xlabel='흡연', ylabel='count'>"
      ]
     },
     "execution_count": 82,
     "metadata": {},
     "output_type": "execute_result"
    },
    {
     "data": {
      "image/png": "[encoded data removed]",
      "text/plain": [
       "<Figure size 432x288 with 1 Axes>"
      ]
     },
     "metadata": {
      "needs_background": "light"
     },
     "output_type": "display_data"
    }
   ],
   "source": [
    "sns.countplot(data=df, x=\"흡연\", hue=\"음주\")"
   ]
  },
  {
   "cell_type": "markdown",
   "id": "e885c1e1",
   "metadata": {},
   "source": [
    "**흡연과 음주 모두 안하는 사람의 수가 제일 높았다.  \n",
    "예상대로 흡연중인 사람은 음주를 하는 비중이 높았다.  \n",
    "흡연 경험이 있으면 음주를 하는 사람 비중이 높다. 흡연 경험이 없는 경우와 완전히 상반된 결과라 흥미롭다.**"
   ]
  },
  {
   "cell_type": "markdown",
   "id": "f4f4aaa8",
   "metadata": {},
   "source": [
    "# Q4.\n",
    "**체중이 120Kg 이상인 데이터를 찾아 \"총콜레스테롤\", \"감마지티피\" 값을 음주여부에 따라 산점도로 시각화해주세요!**\n",
    "* 체중이 120Kg 이 넘는다면 비만으로 건강관리가 필요합니다. 120Kg 이상인 데이터를 찾아 \"총콜레스테롤\", \"감마지티피\" 값을 음주여부에 따라 산점도로 시각화해주세요! (이때 120Kg 도 포함되게 구합니다.) 그래프의 설정과 seaborn 버전에 따라 여백이나 회귀선의 시작과 끝점에 차이가 있을 수 있습니다."
   ]
  },
  {
   "cell_type": "markdown",
   "id": "0e85ffca",
   "metadata": {},
   "source": [
    "**예상: 감마지티피는 간에 쌓인 안좋은 물질이다. 음주를 하는 사람이 이 수치가 높을 것이라 예상한다. 체중이 무거운 사람들 대상이므로 총콜레스테롤 수치는 기본적으로 높다고 예상하는데 그 중에서도 음주를 하는 집단이 더 높을 것 같다.**"
   ]
  },
  {
   "cell_type": "markdown",
   "id": "247c49fe",
   "metadata": {},
   "source": [
    "우선 데이터를 살펴보자"
   ]
  },
  {
   "cell_type": "code",
   "execution_count": 134,
   "id": "1170b9dd",
   "metadata": {},
   "outputs": [
    {
     "data": {
      "text/html": [
       "<div>\n",
       "<style scoped>\n",
       "    .dataframe tbody tr th:only-of-type {\n",
       "        vertical-align: middle;\n",
       "    }\n",
       "\n",
       "    .dataframe tbody tr th {\n",
       "        vertical-align: top;\n",
       "    }\n",
       "\n",
       "    .dataframe thead th {\n",
       "        text-align: right;\n",
       "    }\n",
       "</style>\n",
       "<table border=\"1\" class=\"dataframe\">\n",
       "  <thead>\n",
       "    <tr style=\"text-align: right;\">\n",
       "      <th></th>\n",
       "      <th>기준년도</th>\n",
       "      <th>가입자일련번호</th>\n",
       "      <th>성별코드</th>\n",
       "      <th>연령대코드(5세단위)</th>\n",
       "      <th>시도코드</th>\n",
       "      <th>신장(5Cm단위)</th>\n",
       "      <th>체중(5Kg 단위)</th>\n",
       "      <th>허리둘레</th>\n",
       "      <th>시력(좌)</th>\n",
       "      <th>시력(우)</th>\n",
       "      <th>...</th>\n",
       "      <th>구강검진 수검여부</th>\n",
       "      <th>치아우식증유무</th>\n",
       "      <th>결손치유무</th>\n",
       "      <th>치아마모증유무</th>\n",
       "      <th>제3대구치(사랑니)이상</th>\n",
       "      <th>치석</th>\n",
       "      <th>데이터공개일자</th>\n",
       "      <th>흡연</th>\n",
       "      <th>음주</th>\n",
       "      <th>연령대</th>\n",
       "    </tr>\n",
       "  </thead>\n",
       "  <tbody>\n",
       "    <tr>\n",
       "      <th>0</th>\n",
       "      <td>2017</td>\n",
       "      <td>1</td>\n",
       "      <td>1</td>\n",
       "      <td>13</td>\n",
       "      <td>46</td>\n",
       "      <td>170.0</td>\n",
       "      <td>65.0</td>\n",
       "      <td>91.0</td>\n",
       "      <td>1.0</td>\n",
       "      <td>1.2</td>\n",
       "      <td>...</td>\n",
       "      <td>1</td>\n",
       "      <td>NaN</td>\n",
       "      <td>NaN</td>\n",
       "      <td>NaN</td>\n",
       "      <td>NaN</td>\n",
       "      <td>1.0</td>\n",
       "      <td>20181126</td>\n",
       "      <td>흡연중</td>\n",
       "      <td>안마심</td>\n",
       "      <td>55~59세</td>\n",
       "    </tr>\n",
       "    <tr>\n",
       "      <th>1</th>\n",
       "      <td>2017</td>\n",
       "      <td>2</td>\n",
       "      <td>2</td>\n",
       "      <td>8</td>\n",
       "      <td>41</td>\n",
       "      <td>150.0</td>\n",
       "      <td>45.0</td>\n",
       "      <td>73.4</td>\n",
       "      <td>1.2</td>\n",
       "      <td>1.0</td>\n",
       "      <td>...</td>\n",
       "      <td>1</td>\n",
       "      <td>NaN</td>\n",
       "      <td>NaN</td>\n",
       "      <td>NaN</td>\n",
       "      <td>NaN</td>\n",
       "      <td>1.0</td>\n",
       "      <td>20181126</td>\n",
       "      <td>흡연안함</td>\n",
       "      <td>안마심</td>\n",
       "      <td>30~34세</td>\n",
       "    </tr>\n",
       "    <tr>\n",
       "      <th>2</th>\n",
       "      <td>2017</td>\n",
       "      <td>3</td>\n",
       "      <td>1</td>\n",
       "      <td>8</td>\n",
       "      <td>45</td>\n",
       "      <td>175.0</td>\n",
       "      <td>75.0</td>\n",
       "      <td>94.0</td>\n",
       "      <td>1.0</td>\n",
       "      <td>0.8</td>\n",
       "      <td>...</td>\n",
       "      <td>1</td>\n",
       "      <td>NaN</td>\n",
       "      <td>NaN</td>\n",
       "      <td>NaN</td>\n",
       "      <td>NaN</td>\n",
       "      <td>0.0</td>\n",
       "      <td>20181126</td>\n",
       "      <td>흡연안함</td>\n",
       "      <td>안마심</td>\n",
       "      <td>30~34세</td>\n",
       "    </tr>\n",
       "    <tr>\n",
       "      <th>3</th>\n",
       "      <td>2017</td>\n",
       "      <td>4</td>\n",
       "      <td>2</td>\n",
       "      <td>12</td>\n",
       "      <td>11</td>\n",
       "      <td>155.0</td>\n",
       "      <td>55.0</td>\n",
       "      <td>67.5</td>\n",
       "      <td>0.9</td>\n",
       "      <td>1.0</td>\n",
       "      <td>...</td>\n",
       "      <td>0</td>\n",
       "      <td>NaN</td>\n",
       "      <td>NaN</td>\n",
       "      <td>NaN</td>\n",
       "      <td>NaN</td>\n",
       "      <td>NaN</td>\n",
       "      <td>20181126</td>\n",
       "      <td>흡연안함</td>\n",
       "      <td>마심</td>\n",
       "      <td>50~54세</td>\n",
       "    </tr>\n",
       "    <tr>\n",
       "      <th>4</th>\n",
       "      <td>2017</td>\n",
       "      <td>5</td>\n",
       "      <td>1</td>\n",
       "      <td>8</td>\n",
       "      <td>41</td>\n",
       "      <td>175.0</td>\n",
       "      <td>75.0</td>\n",
       "      <td>93.0</td>\n",
       "      <td>1.5</td>\n",
       "      <td>1.5</td>\n",
       "      <td>...</td>\n",
       "      <td>0</td>\n",
       "      <td>NaN</td>\n",
       "      <td>NaN</td>\n",
       "      <td>NaN</td>\n",
       "      <td>NaN</td>\n",
       "      <td>NaN</td>\n",
       "      <td>20181126</td>\n",
       "      <td>흡연중</td>\n",
       "      <td>안마심</td>\n",
       "      <td>30~34세</td>\n",
       "    </tr>\n",
       "  </tbody>\n",
       "</table>\n",
       "<p>5 rows × 37 columns</p>\n",
       "</div>"
      ],
      "text/plain": [
       "   기준년도  가입자일련번호  성별코드  연령대코드(5세단위)  시도코드  신장(5Cm단위)  체중(5Kg 단위)  허리둘레  시력(좌)  \\\n",
       "0  2017        1     1           13    46      170.0        65.0  91.0    1.0   \n",
       "1  2017        2     2            8    41      150.0        45.0  73.4    1.2   \n",
       "2  2017        3     1            8    45      175.0        75.0  94.0    1.0   \n",
       "3  2017        4     2           12    11      155.0        55.0  67.5    0.9   \n",
       "4  2017        5     1            8    41      175.0        75.0  93.0    1.5   \n",
       "\n",
       "   시력(우)  ...  구강검진 수검여부  치아우식증유무  결손치유무  치아마모증유무  제3대구치(사랑니)이상   치석  \\\n",
       "0    1.2  ...          1      NaN    NaN      NaN           NaN  1.0   \n",
       "1    1.0  ...          1      NaN    NaN      NaN           NaN  1.0   \n",
       "2    0.8  ...          1      NaN    NaN      NaN           NaN  0.0   \n",
       "3    1.0  ...          0      NaN    NaN      NaN           NaN  NaN   \n",
       "4    1.5  ...          0      NaN    NaN      NaN           NaN  NaN   \n",
       "\n",
       "    데이터공개일자    흡연   음주     연령대  \n",
       "0  20181126   흡연중  안마심  55~59세  \n",
       "1  20181126  흡연안함  안마심  30~34세  \n",
       "2  20181126  흡연안함  안마심  30~34세  \n",
       "3  20181126  흡연안함   마심  50~54세  \n",
       "4  20181126   흡연중  안마심  30~34세  \n",
       "\n",
       "[5 rows x 37 columns]"
      ]
     },
     "execution_count": 134,
     "metadata": {},
     "output_type": "execute_result"
    }
   ],
   "source": [
    "# 데이터 미리보기\n",
    "df.head()"
   ]
  },
  {
   "cell_type": "code",
   "execution_count": 135,
   "id": "517daae6",
   "metadata": {},
   "outputs": [
    {
     "data": {
      "text/plain": [
       "기준년도                  0\n",
       "가입자일련번호               0\n",
       "성별코드                  0\n",
       "연령대코드(5세단위)           0\n",
       "시도코드                  0\n",
       "신장(5Cm단위)           262\n",
       "체중(5Kg 단위)          268\n",
       "허리둘레                440\n",
       "시력(좌)               288\n",
       "시력(우)               279\n",
       "청력(좌)               242\n",
       "청력(우)               243\n",
       "수축기혈압                76\n",
       "이완기혈압                77\n",
       "식전혈당(공복혈당)           43\n",
       "총콜레스테롤               43\n",
       "트리글리세라이드             43\n",
       "HDL콜레스테롤             44\n",
       "LDL콜레스테롤           2899\n",
       "혈색소                  56\n",
       "요단백                4859\n",
       "혈청크레아티닌              44\n",
       "(혈청지오티)AST           42\n",
       "(혈청지오티)ALT           44\n",
       "감마지티피                45\n",
       "흡연상태                160\n",
       "음주여부                525\n",
       "구강검진 수검여부             0\n",
       "치아우식증유무         1000000\n",
       "결손치유무           1000000\n",
       "치아마모증유무         1000000\n",
       "제3대구치(사랑니)이상    1000000\n",
       "치석               601252\n",
       "데이터공개일자               0\n",
       "흡연                  160\n",
       "음주                  525\n",
       "연령대                   0\n",
       "dtype: int64"
      ]
     },
     "execution_count": 135,
     "metadata": {},
     "output_type": "execute_result"
    }
   ],
   "source": [
    "# 결측치를 확인하자.\n",
    "df.isna().sum()"
   ]
  },
  {
   "cell_type": "markdown",
   "id": "41d35773",
   "metadata": {},
   "source": [
    "상관계수를 구하고자 하는 체중, 총콜레스테롤, 감마지티피 값들에 결측치가 있는 데이터는 삭제하자.  \n",
    "전부 다 결측치고 메모리만 차지하는 치아 데이터도 삭제하자."
   ]
  },
  {
   "cell_type": "code",
   "execution_count": 136,
   "id": "84a316bf",
   "metadata": {},
   "outputs": [
    {
     "data": {
      "text/plain": [
       "Index(['기준년도', '가입자일련번호', '성별코드', '연령대코드(5세단위)', '시도코드', '신장(5Cm단위)',\n",
       "       '체중(5Kg 단위)', '허리둘레', '시력(좌)', '시력(우)', '청력(좌)', '청력(우)', '수축기혈압',\n",
       "       '이완기혈압', '식전혈당(공복혈당)', '총콜레스테롤', '트리글리세라이드', 'HDL콜레스테롤', 'LDL콜레스테롤',\n",
       "       '혈색소', '요단백', '혈청크레아티닌', '(혈청지오티)AST', '(혈청지오티)ALT', '감마지티피', '흡연상태',\n",
       "       '음주여부', '구강검진 수검여부', '치아우식증유무', '흡연', '음주', '연령대'],\n",
       "      dtype='object')"
      ]
     },
     "execution_count": 136,
     "metadata": {},
     "output_type": "execute_result"
    }
   ],
   "source": [
    "# 우선 치아데이터부터 삭제하자.\n",
    "# df_de 변수에 담자\n",
    "\n",
    "df_de = df.drop(df.columns[-8:-3], axis=1)\n",
    "df_de.columns"
   ]
  },
  {
   "cell_type": "code",
   "execution_count": 111,
   "id": "416e6d3e",
   "metadata": {
    "scrolled": true
   },
   "outputs": [
    {
     "data": {
      "text/plain": [
       "기준년도              0\n",
       "가입자일련번호           0\n",
       "성별코드              0\n",
       "연령대코드(5세단위)       0\n",
       "시도코드              0\n",
       "신장(5Cm단위)         2\n",
       "체중(5Kg 단위)        0\n",
       "허리둘레            260\n",
       "시력(좌)           205\n",
       "시력(우)           196\n",
       "청력(좌)           172\n",
       "청력(우)           173\n",
       "수축기혈압            25\n",
       "이완기혈압            26\n",
       "식전혈당(공복혈당)        1\n",
       "총콜레스테롤            0\n",
       "트리글리세라이드          0\n",
       "HDL콜레스테롤          1\n",
       "LDL콜레스테롤       2856\n",
       "혈색소              15\n",
       "요단백            4781\n",
       "혈청크레아티닌           2\n",
       "(혈청지오티)AST        0\n",
       "(혈청지오티)ALT        2\n",
       "감마지티피             0\n",
       "흡연상태            158\n",
       "음주여부            523\n",
       "구강검진 수검여부         0\n",
       "데이터공개일자           0\n",
       "흡연              158\n",
       "음주              523\n",
       "dtype: int64"
      ]
     },
     "execution_count": 111,
     "metadata": {},
     "output_type": "execute_result"
    }
   ],
   "source": [
    "# 해당 컬럼들에 결측치가 있는 데이터를 삭제하자.\n",
    "# df_del 변수에 담자\n",
    "\n",
    "df_del= df_de.dropna(subset = ['체중(5Kg 단위)', '총콜레스테롤', '감마지티피'])\n",
    "df_del.isna().sum()"
   ]
  },
  {
   "cell_type": "markdown",
   "id": "329e1795",
   "metadata": {},
   "source": [
    "체중이 120이상인 데이터만 뽑아서 df_fat 변수에 담자"
   ]
  },
  {
   "cell_type": "code",
   "execution_count": 115,
   "id": "344358ca",
   "metadata": {},
   "outputs": [
    {
     "data": {
      "text/plain": [
       "array([120., 155., 140., 130., 125., 165., 145., 135., 150., 170., 180.,\n",
       "       160., 175.])"
      ]
     },
     "execution_count": 115,
     "metadata": {},
     "output_type": "execute_result"
    }
   ],
   "source": [
    "df_fat = df[df[\"체중(5Kg 단위)\"]>=120]\n",
    "df_fat[\"체중(5Kg 단위)\"].unique()"
   ]
  },
  {
   "cell_type": "markdown",
   "id": "9031cba2",
   "metadata": {},
   "source": [
    "lmplot으로 상관 관계를 보자"
   ]
  },
  {
   "cell_type": "code",
   "execution_count": 118,
   "id": "106a665e",
   "metadata": {},
   "outputs": [
    {
     "data": {
      "text/plain": [
       "<seaborn.axisgrid.FacetGrid at 0x20916f369a0>"
      ]
     },
     "execution_count": 118,
     "metadata": {},
     "output_type": "execute_result"
    },
    {
     "data": {
      "image/png": "[encoded data removed]",
      "text/plain": [
       "<Figure size 1144.12x360 with 3 Axes>"
      ]
     },
     "metadata": {
      "needs_background": "light"
     },
     "output_type": "display_data"
    }
   ],
   "source": [
    "sns.lmplot(data=df_fat, x=\"총콜레스테롤\", y=\"감마지티피\", hue=\"음주\", col=\"흡연\")"
   ]
  },
  {
   "cell_type": "markdown",
   "id": "189480d7",
   "metadata": {},
   "source": [
    "**시각화 결과로는 흡연 경험의 유무보다는 음주를 할 수록 감마지티피와 총콜레스테롤 수치가 대체적으로 높은 것을 알 수 있다.**"
   ]
  },
  {
   "cell_type": "markdown",
   "id": "aa9dd9bd",
   "metadata": {},
   "source": [
    "# Q5. \n",
    "**연령대별로 시력은 얼마나 차이가 날까요? 연령대, 성별 좌우 평균 시력을 시각화 해주세요!**\n",
    "* 시력은 0.1~2.5 사이의 값으로 표기하며 0.1 이하의 시력은 0.1, 실명은 9.9로 표기합니다.\n",
    "\n",
    "* 실명인 데이터를 평균에 포함하게 되면 시력에 대한 평균을 제대로 구하기 어렵습니다. 실명 데이터를 제외하고 연령대, 성별에 따른 평균 좌우 시력을 구해주세요!\n",
    "\n",
    "* 서브플롯으로 시각화하여 표현해 주고 matplotlib 에 대한 사용법은 다음의 영상도 함께 참고해 주세요! (https://www.youtube.com/watch?v=ZTRKojTLE8M)\n",
    "\n",
    "* 시각화 예시는 참고사항으로 스타일이나 폰트 구성이 달라도 연령대, 성별 좌우평균시력을 시각화 하면 됩니다.\n",
    "\n"
   ]
  },
  {
   "cell_type": "markdown",
   "id": "44b60d6f",
   "metadata": {},
   "source": [
    "**예상: 연령대가 높아질수록 시력은 낮아질 것으로 예상한다. 성별은 큰 차이 없을 것 같다.**"
   ]
  },
  {
   "cell_type": "markdown",
   "id": "37376754",
   "metadata": {},
   "source": [
    "데이터 결측치를 살펴보자"
   ]
  },
  {
   "cell_type": "code",
   "execution_count": 137,
   "id": "59e9a1be",
   "metadata": {},
   "outputs": [
    {
     "data": {
      "text/plain": [
       "기준년도                 0\n",
       "가입자일련번호              0\n",
       "성별코드                 0\n",
       "연령대코드(5세단위)          0\n",
       "시도코드                 0\n",
       "신장(5Cm단위)          262\n",
       "체중(5Kg 단위)         268\n",
       "허리둘레               440\n",
       "시력(좌)              288\n",
       "시력(우)              279\n",
       "청력(좌)              242\n",
       "청력(우)              243\n",
       "수축기혈압               76\n",
       "이완기혈압               77\n",
       "식전혈당(공복혈당)          43\n",
       "총콜레스테롤              43\n",
       "트리글리세라이드            43\n",
       "HDL콜레스테롤            44\n",
       "LDL콜레스테롤          2899\n",
       "혈색소                 56\n",
       "요단백               4859\n",
       "혈청크레아티닌             44\n",
       "(혈청지오티)AST          42\n",
       "(혈청지오티)ALT          44\n",
       "감마지티피               45\n",
       "흡연상태               160\n",
       "음주여부               525\n",
       "구강검진 수검여부            0\n",
       "치아우식증유무        1000000\n",
       "흡연                 160\n",
       "음주                 525\n",
       "연령대                  0\n",
       "dtype: int64"
      ]
     },
     "execution_count": 137,
     "metadata": {},
     "output_type": "execute_result"
    }
   ],
   "source": [
    "df_de.isna().sum()"
   ]
  },
  {
   "cell_type": "markdown",
   "id": "8b5f4949",
   "metadata": {},
   "source": [
    "시력이 결측치인 데이터를 제거하자"
   ]
  },
  {
   "cell_type": "code",
   "execution_count": 138,
   "id": "4759ce15",
   "metadata": {
    "scrolled": false
   },
   "outputs": [
    {
     "data": {
      "text/plain": [
       "기준년도                0\n",
       "가입자일련번호             0\n",
       "성별코드                0\n",
       "연령대코드(5세단위)         0\n",
       "시도코드                0\n",
       "신장(5Cm단위)         179\n",
       "체중(5Kg 단위)        185\n",
       "허리둘레              339\n",
       "시력(좌)               0\n",
       "시력(우)               0\n",
       "청력(좌)             102\n",
       "청력(우)             102\n",
       "수축기혈압              22\n",
       "이완기혈압              23\n",
       "식전혈당(공복혈당)         40\n",
       "총콜레스테롤             40\n",
       "트리글리세라이드           40\n",
       "HDL콜레스테롤           41\n",
       "LDL콜레스테롤         2895\n",
       "혈색소                52\n",
       "요단백              4794\n",
       "혈청크레아티닌            41\n",
       "(혈청지오티)AST         39\n",
       "(혈청지오티)ALT         41\n",
       "감마지티피              42\n",
       "흡연상태              160\n",
       "음주여부              525\n",
       "구강검진 수검여부           0\n",
       "치아우식증유무        999698\n",
       "흡연                160\n",
       "음주                525\n",
       "연령대                 0\n",
       "dtype: int64"
      ]
     },
     "execution_count": 138,
     "metadata": {},
     "output_type": "execute_result"
    }
   ],
   "source": [
    "df_eye = df_de.dropna(subset = ['시력(좌)', '시력(우)'])\n",
    "df_eye.isna().sum()"
   ]
  },
  {
   "cell_type": "markdown",
   "id": "7841f893",
   "metadata": {},
   "source": [
    "연령에 따라 정렬하자"
   ]
  },
  {
   "cell_type": "code",
   "execution_count": 154,
   "id": "c63ada92",
   "metadata": {},
   "outputs": [
    {
     "data": {
      "text/html": [
       "<div>\n",
       "<style scoped>\n",
       "    .dataframe tbody tr th:only-of-type {\n",
       "        vertical-align: middle;\n",
       "    }\n",
       "\n",
       "    .dataframe tbody tr th {\n",
       "        vertical-align: top;\n",
       "    }\n",
       "\n",
       "    .dataframe thead th {\n",
       "        text-align: right;\n",
       "    }\n",
       "</style>\n",
       "<table border=\"1\" class=\"dataframe\">\n",
       "  <thead>\n",
       "    <tr style=\"text-align: right;\">\n",
       "      <th></th>\n",
       "      <th>기준년도</th>\n",
       "      <th>가입자일련번호</th>\n",
       "      <th>성별코드</th>\n",
       "      <th>연령대코드(5세단위)</th>\n",
       "      <th>시도코드</th>\n",
       "      <th>신장(5Cm단위)</th>\n",
       "      <th>체중(5Kg 단위)</th>\n",
       "      <th>허리둘레</th>\n",
       "      <th>시력(좌)</th>\n",
       "      <th>시력(우)</th>\n",
       "      <th>...</th>\n",
       "      <th>(혈청지오티)AST</th>\n",
       "      <th>(혈청지오티)ALT</th>\n",
       "      <th>감마지티피</th>\n",
       "      <th>흡연상태</th>\n",
       "      <th>음주여부</th>\n",
       "      <th>구강검진 수검여부</th>\n",
       "      <th>치아우식증유무</th>\n",
       "      <th>흡연</th>\n",
       "      <th>음주</th>\n",
       "      <th>연령대</th>\n",
       "    </tr>\n",
       "  </thead>\n",
       "  <tbody>\n",
       "    <tr>\n",
       "      <th>545648</th>\n",
       "      <td>2017</td>\n",
       "      <td>545649</td>\n",
       "      <td>2</td>\n",
       "      <td>5</td>\n",
       "      <td>27</td>\n",
       "      <td>160.0</td>\n",
       "      <td>65.0</td>\n",
       "      <td>73.0</td>\n",
       "      <td>1.0</td>\n",
       "      <td>0.8</td>\n",
       "      <td>...</td>\n",
       "      <td>17.0</td>\n",
       "      <td>7.0</td>\n",
       "      <td>17.0</td>\n",
       "      <td>1.0</td>\n",
       "      <td>0.0</td>\n",
       "      <td>0</td>\n",
       "      <td>NaN</td>\n",
       "      <td>흡연안함</td>\n",
       "      <td>안마심</td>\n",
       "      <td>15~19세</td>\n",
       "    </tr>\n",
       "    <tr>\n",
       "      <th>695844</th>\n",
       "      <td>2017</td>\n",
       "      <td>695845</td>\n",
       "      <td>1</td>\n",
       "      <td>5</td>\n",
       "      <td>11</td>\n",
       "      <td>160.0</td>\n",
       "      <td>75.0</td>\n",
       "      <td>81.2</td>\n",
       "      <td>9.9</td>\n",
       "      <td>9.9</td>\n",
       "      <td>...</td>\n",
       "      <td>53.0</td>\n",
       "      <td>100.0</td>\n",
       "      <td>40.0</td>\n",
       "      <td>1.0</td>\n",
       "      <td>0.0</td>\n",
       "      <td>1</td>\n",
       "      <td>NaN</td>\n",
       "      <td>흡연안함</td>\n",
       "      <td>안마심</td>\n",
       "      <td>15~19세</td>\n",
       "    </tr>\n",
       "    <tr>\n",
       "      <th>220930</th>\n",
       "      <td>2017</td>\n",
       "      <td>220931</td>\n",
       "      <td>1</td>\n",
       "      <td>5</td>\n",
       "      <td>26</td>\n",
       "      <td>165.0</td>\n",
       "      <td>55.0</td>\n",
       "      <td>71.1</td>\n",
       "      <td>1.2</td>\n",
       "      <td>1.2</td>\n",
       "      <td>...</td>\n",
       "      <td>40.0</td>\n",
       "      <td>10.0</td>\n",
       "      <td>30.0</td>\n",
       "      <td>3.0</td>\n",
       "      <td>1.0</td>\n",
       "      <td>1</td>\n",
       "      <td>NaN</td>\n",
       "      <td>흡연중</td>\n",
       "      <td>마심</td>\n",
       "      <td>15~19세</td>\n",
       "    </tr>\n",
       "    <tr>\n",
       "      <th>467260</th>\n",
       "      <td>2017</td>\n",
       "      <td>467261</td>\n",
       "      <td>2</td>\n",
       "      <td>5</td>\n",
       "      <td>28</td>\n",
       "      <td>165.0</td>\n",
       "      <td>65.0</td>\n",
       "      <td>78.0</td>\n",
       "      <td>1.0</td>\n",
       "      <td>1.0</td>\n",
       "      <td>...</td>\n",
       "      <td>20.0</td>\n",
       "      <td>21.0</td>\n",
       "      <td>10.0</td>\n",
       "      <td>1.0</td>\n",
       "      <td>0.0</td>\n",
       "      <td>1</td>\n",
       "      <td>NaN</td>\n",
       "      <td>흡연안함</td>\n",
       "      <td>안마심</td>\n",
       "      <td>15~19세</td>\n",
       "    </tr>\n",
       "    <tr>\n",
       "      <th>164012</th>\n",
       "      <td>2017</td>\n",
       "      <td>164013</td>\n",
       "      <td>2</td>\n",
       "      <td>5</td>\n",
       "      <td>44</td>\n",
       "      <td>160.0</td>\n",
       "      <td>55.0</td>\n",
       "      <td>72.0</td>\n",
       "      <td>1.2</td>\n",
       "      <td>1.0</td>\n",
       "      <td>...</td>\n",
       "      <td>33.0</td>\n",
       "      <td>42.0</td>\n",
       "      <td>9.0</td>\n",
       "      <td>1.0</td>\n",
       "      <td>0.0</td>\n",
       "      <td>1</td>\n",
       "      <td>NaN</td>\n",
       "      <td>흡연안함</td>\n",
       "      <td>안마심</td>\n",
       "      <td>15~19세</td>\n",
       "    </tr>\n",
       "  </tbody>\n",
       "</table>\n",
       "<p>5 rows × 32 columns</p>\n",
       "</div>"
      ],
      "text/plain": [
       "        기준년도  가입자일련번호  성별코드  연령대코드(5세단위)  시도코드  신장(5Cm단위)  체중(5Kg 단위)  허리둘레  \\\n",
       "545648  2017   545649     2            5    27      160.0        65.0  73.0   \n",
       "695844  2017   695845     1            5    11      160.0        75.0  81.2   \n",
       "220930  2017   220931     1            5    26      165.0        55.0  71.1   \n",
       "467260  2017   467261     2            5    28      165.0        65.0  78.0   \n",
       "164012  2017   164013     2            5    44      160.0        55.0  72.0   \n",
       "\n",
       "        시력(좌)  시력(우)  ...  (혈청지오티)AST  (혈청지오티)ALT  감마지티피  흡연상태  음주여부  \\\n",
       "545648    1.0    0.8  ...        17.0         7.0   17.0   1.0   0.0   \n",
       "695844    9.9    9.9  ...        53.0       100.0   40.0   1.0   0.0   \n",
       "220930    1.2    1.2  ...        40.0        10.0   30.0   3.0   1.0   \n",
       "467260    1.0    1.0  ...        20.0        21.0   10.0   1.0   0.0   \n",
       "164012    1.2    1.0  ...        33.0        42.0    9.0   1.0   0.0   \n",
       "\n",
       "        구강검진 수검여부  치아우식증유무    흡연   음주     연령대  \n",
       "545648          0      NaN  흡연안함  안마심  15~19세  \n",
       "695844          1      NaN  흡연안함  안마심  15~19세  \n",
       "220930          1      NaN   흡연중   마심  15~19세  \n",
       "467260          1      NaN  흡연안함  안마심  15~19세  \n",
       "164012          1      NaN  흡연안함  안마심  15~19세  \n",
       "\n",
       "[5 rows x 32 columns]"
      ]
     },
     "execution_count": 154,
     "metadata": {},
     "output_type": "execute_result"
    }
   ],
   "source": [
    "df_eye = df_eye.sort_values('연령대코드(5세단위)')\n",
    "df_eye.head()"
   ]
  },
  {
   "cell_type": "markdown",
   "id": "016c7a36",
   "metadata": {},
   "source": [
    "seaborn의 barplot으로 시각화하자"
   ]
  },
  {
   "cell_type": "code",
   "execution_count": 155,
   "id": "205d8343",
   "metadata": {},
   "outputs": [],
   "source": [
    "# 그래프를 여러개 그려야한다. matplotlib을 임포트 하자.\n",
    "import matplotlib.pyplot as plt"
   ]
  },
  {
   "cell_type": "code",
   "execution_count": 156,
   "id": "647a2a90",
   "metadata": {
    "scrolled": false
   },
   "outputs": [
    {
     "data": {
      "image/png": "[encoded data removed]",
      "text/plain": [
       "<Figure size 1800x720 with 2 Axes>"
      ]
     },
     "metadata": {
      "needs_background": "light"
     },
     "output_type": "display_data"
    }
   ],
   "source": [
    "# 그래프 객체를 생성하기 위한 피겨 객체 얻어오기\n",
    "fig = plt.figure(figsize=(25, 10))\n",
    "\n",
    "# 하나의 fig(도화지라고 생각하면 됨)에 2가지 그래프를 그리는 방법이다.\n",
    "# subplot이라고 생각하면 된다.\n",
    "area1 = fig.add_subplot(1, 2, 1)\n",
    "area2 = fig.add_subplot(1, 2, 2)\n",
    "\n",
    "# 연령대, 성별 좌우평균시력\n",
    "sns.barplot(data=df_eye, x=\"시력(좌)\", y=\"연령대\", hue=\"성별코드\", ax=area1, ci=None)\n",
    "sns.barplot(data=df_eye, x=\"시력(우)\", y=\"연령대\", hue=\"성별코드\", ax=area2, ci=None)\n",
    "\n",
    "plt.show()"
   ]
  },
  {
   "cell_type": "markdown",
   "id": "84dbefe4",
   "metadata": {},
   "source": [
    "**가장 놀라웠던 부분은 남성의 시력이 여성보다 모든 연령대에서 좋다는 것이었다. 예상치 못한 흥미로운 결과다.  \n",
    "또한 나이가 들수록 계속해서 시력이 낮아질 줄 알았는데 30대 초반에 가장 좋은 것이 의외였다. 마지막에 70대 초반보다 80대 초반이 더 좋아지는 것도 신기하다.**"
   ]
  },
  {
   "cell_type": "code",
   "execution_count": null,
   "id": "936497e0",
   "metadata": {},
   "outputs": [],
   "source": []
  }
 ],
 "metadata": {
  "kernelspec": {
   "display_name": "Python 3 (ipykernel)",
   "language": "python",
   "name": "python3"
  },
  "language_info": {
   "codemirror_mode": {
    "name": "ipython",
    "version": 3
   },
   "file_extension": ".py",
   "mimetype": "text/x-python",
   "name": "python",
   "nbconvert_exporter": "python",
   "pygments_lexer": "ipython3",
   "version": "3.9.12"
  },
  "toc": {
   "base_numbering": 1,
   "nav_menu": {},
   "number_sections": true,
   "sideBar": true,
   "skip_h1_title": false,
   "title_cell": "Table of Contents",
   "title_sidebar": "Contents",
   "toc_cell": false,
   "toc_position": {},
   "toc_section_display": true,
   "toc_window_display": false
  }
 },
 "nbformat": 4,
 "nbformat_minor": 5
}
