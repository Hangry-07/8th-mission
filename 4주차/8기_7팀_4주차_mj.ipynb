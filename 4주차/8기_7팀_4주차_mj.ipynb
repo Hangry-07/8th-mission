{
 "cells": [
  {
   "cell_type": "markdown",
   "id": "b1d1ae7d",
   "metadata": {},
   "source": [
    "`미션 4주차`\n",
    "\n",
    "* <데이터 특이사항>\n",
    "\n",
    "오늘 활용할 데이터는 2022년까지의 국가(대륙)별/상품군별 온라인쇼핑 해외직접판매액 입니다. 합계, 계 데이터는 제외하였으며 판매유형별 데이터에도 면세점 데이터는 제외하고 다운로드 받은 데이터 입니다. 해당 데이터를 통해 온라인쇼핑을 통한 해외직접판매액에 대한 분석을 진행해 주세요!\n",
    "\n",
    "\n",
    "[원본데이터] 국가통계포털 : http://kosis.kr/statHtml/statHtml.do?orgId=101&tblId=DT_1KE10081&vw_cd=MT_ZTITLE&list_id=JF&seqNo=&lang_mode=ko&language=kor&obj_var_id=&itm_id=&conn_path=MT_ZTITLE"
   ]
  },
  {
   "cell_type": "code",
   "execution_count": 15,
   "id": "4850500d",
   "metadata": {},
   "outputs": [],
   "source": [
    "# 미션 풀이를 위한 준비 작업\n",
    "\n",
    "import pandas as pd\n",
    "import numpy as np\n",
    "import seaborn as sns\n",
    "import matplotlib.pyplot as plt\n",
    "\n",
    "# 한글폰트 사용을 위해 설치\n",
    "# 아래 모듈을 설치하고 불러오면 별도의 한글폰트 설정이 필요 없습니다.\n",
    "# !pip install koreanize-matplotlib\n",
    "\n",
    "import koreanize_matplotlib\n",
    "\n",
    "df = pd.read_csv(\n",
    "    \"https://raw.githubusercontent.com/corazzon/boostcourse-ds-510/master/data/online_oversea_sale_202210.csv.zip\", \n",
    "    encoding=\"cp949\")"
   ]
  },
  {
   "cell_type": "code",
   "execution_count": 16,
   "id": "27ed86dc",
   "metadata": {},
   "outputs": [
    {
     "name": "stdout",
     "output_type": "stream",
     "text": [
      "<class 'pandas.core.frame.DataFrame'>\n",
      "RangeIndex: 2772 entries, 0 to 2771\n",
      "Data columns (total 5 columns):\n",
      " #   Column   Non-Null Count  Dtype \n",
      "---  ------   --------------  ----- \n",
      " 0   국가(대륙)별  2772 non-null   object\n",
      " 1   상품군별     2772 non-null   object\n",
      " 2   판매유형별    2772 non-null   object\n",
      " 3   시점       2772 non-null   object\n",
      " 4   데이터      2772 non-null   int64 \n",
      "dtypes: int64(1), object(4)\n",
      "memory usage: 108.4+ KB\n"
     ]
    }
   ],
   "source": [
    "# 데이터 정보 확인\n",
    "\n",
    "df.info()"
   ]
  },
  {
   "cell_type": "code",
   "execution_count": 17,
   "id": "e711fe2f",
   "metadata": {},
   "outputs": [
    {
     "data": {
      "text/plain": [
       "<bound method NDFrame.describe of      국가(대륙)별        상품군별   판매유형별           시점   데이터\n",
       "0         미국  컴퓨터 및 주변기기  면세점 이외     2017.1/4  1054\n",
       "1         미국  컴퓨터 및 주변기기  면세점 이외     2017.2/4   946\n",
       "2         미국  컴퓨터 및 주변기기  면세점 이외     2017.3/4   791\n",
       "3         미국  컴퓨터 및 주변기기  면세점 이외     2017.4/4   854\n",
       "4         미국  컴퓨터 및 주변기기  면세점 이외     2018.1/4  2033\n",
       "...      ...         ...     ...          ...   ...\n",
       "2767      기타         기 타  면세점 이외     2021.2/4  1278\n",
       "2768      기타         기 타  면세점 이외     2021.3/4  1154\n",
       "2769      기타         기 타  면세점 이외     2021.4/4  1076\n",
       "2770      기타         기 타  면세점 이외     2022.1/4  2325\n",
       "2771      기타         기 타  면세점 이외  2022.2/4 p)   725\n",
       "\n",
       "[2772 rows x 5 columns]>"
      ]
     },
     "execution_count": 17,
     "metadata": {},
     "output_type": "execute_result"
    }
   ],
   "source": [
    "# 데이터 정보 요약\n",
    "df.describe"
   ]
  },
  {
   "cell_type": "code",
   "execution_count": 18,
   "id": "fd54b0d8",
   "metadata": {},
   "outputs": [
    {
     "data": {
      "text/html": [
       "<div>\n",
       "<style scoped>\n",
       "    .dataframe tbody tr th:only-of-type {\n",
       "        vertical-align: middle;\n",
       "    }\n",
       "\n",
       "    .dataframe tbody tr th {\n",
       "        vertical-align: top;\n",
       "    }\n",
       "\n",
       "    .dataframe thead th {\n",
       "        text-align: right;\n",
       "    }\n",
       "</style>\n",
       "<table border=\"1\" class=\"dataframe\">\n",
       "  <thead>\n",
       "    <tr style=\"text-align: right;\">\n",
       "      <th></th>\n",
       "      <th>국가(대륙)별</th>\n",
       "      <th>상품군별</th>\n",
       "      <th>판매유형별</th>\n",
       "      <th>시점</th>\n",
       "      <th>데이터</th>\n",
       "    </tr>\n",
       "  </thead>\n",
       "  <tbody>\n",
       "    <tr>\n",
       "      <th>0</th>\n",
       "      <td>미국</td>\n",
       "      <td>컴퓨터 및 주변기기</td>\n",
       "      <td>면세점 이외</td>\n",
       "      <td>2017.1/4</td>\n",
       "      <td>1054</td>\n",
       "    </tr>\n",
       "    <tr>\n",
       "      <th>1</th>\n",
       "      <td>미국</td>\n",
       "      <td>컴퓨터 및 주변기기</td>\n",
       "      <td>면세점 이외</td>\n",
       "      <td>2017.2/4</td>\n",
       "      <td>946</td>\n",
       "    </tr>\n",
       "    <tr>\n",
       "      <th>2</th>\n",
       "      <td>미국</td>\n",
       "      <td>컴퓨터 및 주변기기</td>\n",
       "      <td>면세점 이외</td>\n",
       "      <td>2017.3/4</td>\n",
       "      <td>791</td>\n",
       "    </tr>\n",
       "    <tr>\n",
       "      <th>3</th>\n",
       "      <td>미국</td>\n",
       "      <td>컴퓨터 및 주변기기</td>\n",
       "      <td>면세점 이외</td>\n",
       "      <td>2017.4/4</td>\n",
       "      <td>854</td>\n",
       "    </tr>\n",
       "    <tr>\n",
       "      <th>4</th>\n",
       "      <td>미국</td>\n",
       "      <td>컴퓨터 및 주변기기</td>\n",
       "      <td>면세점 이외</td>\n",
       "      <td>2018.1/4</td>\n",
       "      <td>2033</td>\n",
       "    </tr>\n",
       "  </tbody>\n",
       "</table>\n",
       "</div>"
      ],
      "text/plain": [
       "  국가(대륙)별        상품군별   판매유형별        시점   데이터\n",
       "0      미국  컴퓨터 및 주변기기  면세점 이외  2017.1/4  1054\n",
       "1      미국  컴퓨터 및 주변기기  면세점 이외  2017.2/4   946\n",
       "2      미국  컴퓨터 및 주변기기  면세점 이외  2017.3/4   791\n",
       "3      미국  컴퓨터 및 주변기기  면세점 이외  2017.4/4   854\n",
       "4      미국  컴퓨터 및 주변기기  면세점 이외  2018.1/4  2033"
      ]
     },
     "execution_count": 18,
     "metadata": {},
     "output_type": "execute_result"
    }
   ],
   "source": [
    "# 데이터 형태 미리보기\n",
    "df.head()"
   ]
  },
  {
   "cell_type": "code",
   "execution_count": 19,
   "id": "9e3f946f",
   "metadata": {},
   "outputs": [
    {
     "data": {
      "text/plain": [
       "Index(['국가(대륙)별', '상품군별', '판매유형별', '시점', '데이터'], dtype='object')"
      ]
     },
     "execution_count": 19,
     "metadata": {},
     "output_type": "execute_result"
    }
   ],
   "source": [
    "# 컬럼명 보기\n",
    "df.columns"
   ]
  },
  {
   "cell_type": "markdown",
   "id": "ad1851d2",
   "metadata": {},
   "source": [
    "#  Q1. 시점 컬럼에서 연도와 분기에 대한 파생변수를 생성하고 기술통계를 구해주세요.\n",
    "\n",
    "* 데이터 컬럼을 단위인 \"백만\"으로 변경해 주세요.\n",
    "* describe() 로 기술통계를 구했을 때 다음과 같은 결과가 나오도록 합니다. 아래 결과는 예시로 소숫점 자리수가 다르게 표시되더라도 값이 같다면 괜찮습니다.\n",
    "* 전처리한 백만, 연도, 분기 컬럼이 수치형 데이터 일 때 아래와 같은 결과가 나오니 데이터가 수치 형태로 되어 있는지도 확인해 주세요!\n",
    "* 데이터는 위에서 제공된 데이터를 사용합니다.\n",
    "* 해당 기술통계로 알 수 있는 정보가 무엇인지도 함께 작성해 주세요!"
   ]
  },
  {
   "cell_type": "code",
   "execution_count": 20,
   "id": "19ccef10",
   "metadata": {},
   "outputs": [
    {
     "data": {
      "text/plain": [
       "array(['2017.1/4', '2017.2/4', '2017.3/4', '2017.4/4', '2018.1/4',\n",
       "       '2018.2/4', '2018.3/4', '2018.4/4', '2019.1/4', '2019.2/4',\n",
       "       '2019.3/4', '2019.4/4', '2020.1/4', '2020.2/4', '2020.3/4',\n",
       "       '2020.4/4', '2021.1/4', '2021.2/4', '2021.3/4', '2021.4/4',\n",
       "       '2022.1/4', '2022.2/4 p)'], dtype=object)"
      ]
     },
     "execution_count": 20,
     "metadata": {},
     "output_type": "execute_result"
    }
   ],
   "source": [
    "# 시점 컬럼 데이터 확인\n",
    "\n",
    "df['시점'].unique()"
   ]
  },
  {
   "cell_type": "markdown",
   "id": "f5ed8695",
   "metadata": {},
   "source": [
    "2017년부터 2022년 2/4까지 있는 것 확인 가능"
   ]
  },
  {
   "cell_type": "code",
   "execution_count": 21,
   "id": "8fa351fa",
   "metadata": {},
   "outputs": [
    {
     "data": {
      "text/plain": [
       "Index(['국가(대륙)별', '상품군별', '판매유형별', '시점', '백만'], dtype='object')"
      ]
     },
     "execution_count": 21,
     "metadata": {},
     "output_type": "execute_result"
    }
   ],
   "source": [
    "# 컬럼명 바꾸기\n",
    "df.rename(columns={'데이터':'백만'},inplace=True)\n",
    "\n",
    "# 바뀐 컬럼명 확인\n",
    "df.columns"
   ]
  },
  {
   "cell_type": "code",
   "execution_count": 22,
   "id": "c1da0d7a",
   "metadata": {},
   "outputs": [
    {
     "data": {
      "text/html": [
       "<div>\n",
       "<style scoped>\n",
       "    .dataframe tbody tr th:only-of-type {\n",
       "        vertical-align: middle;\n",
       "    }\n",
       "\n",
       "    .dataframe tbody tr th {\n",
       "        vertical-align: top;\n",
       "    }\n",
       "\n",
       "    .dataframe thead th {\n",
       "        text-align: right;\n",
       "    }\n",
       "</style>\n",
       "<table border=\"1\" class=\"dataframe\">\n",
       "  <thead>\n",
       "    <tr style=\"text-align: right;\">\n",
       "      <th></th>\n",
       "      <th>국가(대륙)별</th>\n",
       "      <th>상품군별</th>\n",
       "      <th>판매유형별</th>\n",
       "      <th>시점</th>\n",
       "      <th>백만</th>\n",
       "    </tr>\n",
       "  </thead>\n",
       "  <tbody>\n",
       "    <tr>\n",
       "      <th>0</th>\n",
       "      <td>미국</td>\n",
       "      <td>컴퓨터 및 주변기기</td>\n",
       "      <td>면세점 이외</td>\n",
       "      <td>2017.1/4</td>\n",
       "      <td>1054</td>\n",
       "    </tr>\n",
       "    <tr>\n",
       "      <th>1</th>\n",
       "      <td>미국</td>\n",
       "      <td>컴퓨터 및 주변기기</td>\n",
       "      <td>면세점 이외</td>\n",
       "      <td>2017.2/4</td>\n",
       "      <td>946</td>\n",
       "    </tr>\n",
       "    <tr>\n",
       "      <th>2</th>\n",
       "      <td>미국</td>\n",
       "      <td>컴퓨터 및 주변기기</td>\n",
       "      <td>면세점 이외</td>\n",
       "      <td>2017.3/4</td>\n",
       "      <td>791</td>\n",
       "    </tr>\n",
       "  </tbody>\n",
       "</table>\n",
       "</div>"
      ],
      "text/plain": [
       "  국가(대륙)별        상품군별   판매유형별        시점    백만\n",
       "0      미국  컴퓨터 및 주변기기  면세점 이외  2017.1/4  1054\n",
       "1      미국  컴퓨터 및 주변기기  면세점 이외  2017.2/4   946\n",
       "2      미국  컴퓨터 및 주변기기  면세점 이외  2017.3/4   791"
      ]
     },
     "execution_count": 22,
     "metadata": {},
     "output_type": "execute_result"
    }
   ],
   "source": [
    "# 연도와 분기 추출 전 데이터 확인\n",
    "df.head(3)"
   ]
  },
  {
   "cell_type": "markdown",
   "id": "41b35e9c",
   "metadata": {},
   "source": [
    "시점을 보면 '.'을 통해 연도와 분기가 구분되어 있음을 확인 가능\n",
    "\n",
    "\n",
    "다시 분기는 '/'을 기준으로 구분되어있음"
   ]
  },
  {
   "cell_type": "code",
   "execution_count": 23,
   "id": "f75148b6",
   "metadata": {},
   "outputs": [
    {
     "data": {
      "text/html": [
       "<div>\n",
       "<style scoped>\n",
       "    .dataframe tbody tr th:only-of-type {\n",
       "        vertical-align: middle;\n",
       "    }\n",
       "\n",
       "    .dataframe tbody tr th {\n",
       "        vertical-align: top;\n",
       "    }\n",
       "\n",
       "    .dataframe thead th {\n",
       "        text-align: right;\n",
       "    }\n",
       "</style>\n",
       "<table border=\"1\" class=\"dataframe\">\n",
       "  <thead>\n",
       "    <tr style=\"text-align: right;\">\n",
       "      <th></th>\n",
       "      <th>국가(대륙)별</th>\n",
       "      <th>상품군별</th>\n",
       "      <th>판매유형별</th>\n",
       "      <th>시점</th>\n",
       "      <th>백만</th>\n",
       "      <th>연도</th>\n",
       "    </tr>\n",
       "  </thead>\n",
       "  <tbody>\n",
       "    <tr>\n",
       "      <th>675</th>\n",
       "      <td>일본</td>\n",
       "      <td>소프트웨어</td>\n",
       "      <td>면세점 이외</td>\n",
       "      <td>2020.4/4</td>\n",
       "      <td>23</td>\n",
       "      <td>2020</td>\n",
       "    </tr>\n",
       "    <tr>\n",
       "      <th>62</th>\n",
       "      <td>미국</td>\n",
       "      <td>소프트웨어</td>\n",
       "      <td>면세점 이외</td>\n",
       "      <td>2021.3/4</td>\n",
       "      <td>193</td>\n",
       "      <td>2021</td>\n",
       "    </tr>\n",
       "    <tr>\n",
       "      <th>347</th>\n",
       "      <td>중국</td>\n",
       "      <td>가전·전자·통신기기</td>\n",
       "      <td>면세점 이외</td>\n",
       "      <td>2021.2/4</td>\n",
       "      <td>175</td>\n",
       "      <td>2021</td>\n",
       "    </tr>\n",
       "  </tbody>\n",
       "</table>\n",
       "</div>"
      ],
      "text/plain": [
       "    국가(대륙)별        상품군별   판매유형별        시점   백만    연도\n",
       "675      일본       소프트웨어  면세점 이외  2020.4/4   23  2020\n",
       "62       미국       소프트웨어  면세점 이외  2021.3/4  193  2021\n",
       "347      중국  가전·전자·통신기기  면세점 이외  2021.2/4  175  2021"
      ]
     },
     "execution_count": 23,
     "metadata": {},
     "output_type": "execute_result"
    }
   ],
   "source": [
    "# 연도 컬럼 생성 및 데이터 추가\n",
    "\n",
    "df['연도'] = df['시점'].map(lambda x: int(x.split('.')[0]))\n",
    "df.sample(3)"
   ]
  },
  {
   "cell_type": "code",
   "execution_count": 24,
   "id": "178d4862",
   "metadata": {},
   "outputs": [
    {
     "data": {
      "text/html": [
       "<div>\n",
       "<style scoped>\n",
       "    .dataframe tbody tr th:only-of-type {\n",
       "        vertical-align: middle;\n",
       "    }\n",
       "\n",
       "    .dataframe tbody tr th {\n",
       "        vertical-align: top;\n",
       "    }\n",
       "\n",
       "    .dataframe thead th {\n",
       "        text-align: right;\n",
       "    }\n",
       "</style>\n",
       "<table border=\"1\" class=\"dataframe\">\n",
       "  <thead>\n",
       "    <tr style=\"text-align: right;\">\n",
       "      <th></th>\n",
       "      <th>국가(대륙)별</th>\n",
       "      <th>상품군별</th>\n",
       "      <th>판매유형별</th>\n",
       "      <th>시점</th>\n",
       "      <th>백만</th>\n",
       "      <th>연도</th>\n",
       "      <th>분기</th>\n",
       "    </tr>\n",
       "  </thead>\n",
       "  <tbody>\n",
       "    <tr>\n",
       "      <th>624</th>\n",
       "      <td>일본</td>\n",
       "      <td>컴퓨터 및 주변기기</td>\n",
       "      <td>면세점 이외</td>\n",
       "      <td>2019.1/4</td>\n",
       "      <td>34</td>\n",
       "      <td>2019</td>\n",
       "      <td>1</td>\n",
       "    </tr>\n",
       "    <tr>\n",
       "      <th>1887</th>\n",
       "      <td>중남미</td>\n",
       "      <td>가전·전자·통신기기</td>\n",
       "      <td>면세점 이외</td>\n",
       "      <td>2021.2/4</td>\n",
       "      <td>155</td>\n",
       "      <td>2021</td>\n",
       "      <td>2</td>\n",
       "    </tr>\n",
       "    <tr>\n",
       "      <th>1992</th>\n",
       "      <td>중남미</td>\n",
       "      <td>의류 및 패션 관련상품</td>\n",
       "      <td>면세점 이외</td>\n",
       "      <td>2020.1/4</td>\n",
       "      <td>114</td>\n",
       "      <td>2020</td>\n",
       "      <td>1</td>\n",
       "    </tr>\n",
       "  </tbody>\n",
       "</table>\n",
       "</div>"
      ],
      "text/plain": [
       "     국가(대륙)별          상품군별   판매유형별        시점   백만    연도  분기\n",
       "624       일본    컴퓨터 및 주변기기  면세점 이외  2019.1/4   34  2019   1\n",
       "1887     중남미    가전·전자·통신기기  면세점 이외  2021.2/4  155  2021   2\n",
       "1992     중남미  의류 및 패션 관련상품  면세점 이외  2020.1/4  114  2020   1"
      ]
     },
     "execution_count": 24,
     "metadata": {},
     "output_type": "execute_result"
    }
   ],
   "source": [
    "# 분기 컬럼 생성 및 데이터 추가\n",
    "\n",
    "df['분기'] = df['시점'].map(lambda x: int(x.split('.')[-1].split('/')[0]))\n",
    "df.sample(3)"
   ]
  },
  {
   "cell_type": "code",
   "execution_count": 25,
   "id": "71674e8d",
   "metadata": {},
   "outputs": [
    {
     "data": {
      "text/html": [
       "<div>\n",
       "<style scoped>\n",
       "    .dataframe tbody tr th:only-of-type {\n",
       "        vertical-align: middle;\n",
       "    }\n",
       "\n",
       "    .dataframe tbody tr th {\n",
       "        vertical-align: top;\n",
       "    }\n",
       "\n",
       "    .dataframe thead th {\n",
       "        text-align: right;\n",
       "    }\n",
       "</style>\n",
       "<table border=\"1\" class=\"dataframe\">\n",
       "  <thead>\n",
       "    <tr style=\"text-align: right;\">\n",
       "      <th></th>\n",
       "      <th>백만</th>\n",
       "      <th>연도</th>\n",
       "      <th>분기</th>\n",
       "    </tr>\n",
       "  </thead>\n",
       "  <tbody>\n",
       "    <tr>\n",
       "      <th>count</th>\n",
       "      <td>2772.000000</td>\n",
       "      <td>2772.000000</td>\n",
       "      <td>2772.000000</td>\n",
       "    </tr>\n",
       "    <tr>\n",
       "      <th>mean</th>\n",
       "      <td>1613.116522</td>\n",
       "      <td>2019.272727</td>\n",
       "      <td>2.409091</td>\n",
       "    </tr>\n",
       "    <tr>\n",
       "      <th>std</th>\n",
       "      <td>4273.426107</td>\n",
       "      <td>1.600909</td>\n",
       "      <td>1.114533</td>\n",
       "    </tr>\n",
       "    <tr>\n",
       "      <th>min</th>\n",
       "      <td>-10003.000000</td>\n",
       "      <td>2017.000000</td>\n",
       "      <td>1.000000</td>\n",
       "    </tr>\n",
       "    <tr>\n",
       "      <th>25%</th>\n",
       "      <td>41.750000</td>\n",
       "      <td>2018.000000</td>\n",
       "      <td>1.000000</td>\n",
       "    </tr>\n",
       "    <tr>\n",
       "      <th>50%</th>\n",
       "      <td>291.500000</td>\n",
       "      <td>2019.000000</td>\n",
       "      <td>2.000000</td>\n",
       "    </tr>\n",
       "    <tr>\n",
       "      <th>75%</th>\n",
       "      <td>1181.000000</td>\n",
       "      <td>2021.000000</td>\n",
       "      <td>3.000000</td>\n",
       "    </tr>\n",
       "    <tr>\n",
       "      <th>max</th>\n",
       "      <td>47689.000000</td>\n",
       "      <td>2022.000000</td>\n",
       "      <td>4.000000</td>\n",
       "    </tr>\n",
       "  </tbody>\n",
       "</table>\n",
       "</div>"
      ],
      "text/plain": [
       "                 백만           연도           분기\n",
       "count   2772.000000  2772.000000  2772.000000\n",
       "mean    1613.116522  2019.272727     2.409091\n",
       "std     4273.426107     1.600909     1.114533\n",
       "min   -10003.000000  2017.000000     1.000000\n",
       "25%       41.750000  2018.000000     1.000000\n",
       "50%      291.500000  2019.000000     2.000000\n",
       "75%     1181.000000  2021.000000     3.000000\n",
       "max    47689.000000  2022.000000     4.000000"
      ]
     },
     "execution_count": 25,
     "metadata": {},
     "output_type": "execute_result"
    }
   ],
   "source": [
    "# describe() 로 기술통계 구하기\n",
    "\n",
    "df.describe()"
   ]
  },
  {
   "cell_type": "markdown",
   "id": "c327f9f3",
   "metadata": {},
   "source": [
    "## 해당 기술통계로 알 수 있는 정보\n",
    "\n",
    "* '백만'의 min이 -10003인 것을 볼 때, 이는 이상치임을 알 수 있음\n",
    "* '백만'의 중앙값이 291.5, 평균이 1613, 최대가 47689인 것을 볼 때 평균이 최대값의 영향을 크게 받았음에도 \n",
    "* 최대치에 비해 중앙값으로부터 평균이 멀리 전체적으로 보았을 때 상대적으로 멀리 떨어진 것 같지 않음\n",
    "* 41 ~ 1181 까지 데이터의 50%가 있다는 것을 함께 고려한다면 10000 단위의 데이터들은 강하게 이상치로 의심받는 값들임\n",
    "\n",
    "\n",
    "* 박스플롯을 그려서 상자 수염과 이상치를 확인해보자"
   ]
  },
  {
   "cell_type": "code",
   "execution_count": 31,
   "id": "2ecd6871",
   "metadata": {},
   "outputs": [
    {
     "data": {
      "text/plain": [
       "<AxesSubplot:>"
      ]
     },
     "execution_count": 31,
     "metadata": {},
     "output_type": "execute_result"
    },
    {
     "data": {
      "image/png": "[encoded data removed]",
      "text/plain": [
       "<Figure size 500x1000 with 1 Axes>"
      ]
     },
     "metadata": {},
     "output_type": "display_data"
    }
   ],
   "source": [
    "# boxplot으로 시각화\n",
    "\n",
    "plt.figure(figsize=(5,10))\n",
    "sns.boxplot(data=df['백만'])\n"
   ]
  },
  {
   "cell_type": "markdown",
   "id": "87546300",
   "metadata": {},
   "source": [
    "위에서 예상한대로 상자 수염은 2000~3000 정도에서 끝남. 이상치로 의심되는 값들이 꽤 많음을 확인할 수 있음\n",
    "\n",
    "또한 -10000이 이상치임을 함께 보여줌"
   ]
  },
  {
   "cell_type": "markdown",
   "id": "1b7f380f",
   "metadata": {},
   "source": [
    "# Q2. pivot_table을 사용하여 국가(대륙)별 연도별 판매액의 합계를 분석해 주세요.\n",
    "\n",
    "* 국가(대륙)별 연도별 판매액의 합계를 구해서 어느 지역에 판매액이 많은지를 알아보겠습니다.\n",
    "* pivot_table 을 사용하여 다음의 결과를 구하고 시각화 해주세요!\n",
    "* 그래프의 색상, 스타일은 자유롭게 원하는 스타일로 지정해도 됩니다."
   ]
  },
  {
   "cell_type": "code",
   "execution_count": null,
   "id": "11bc492f",
   "metadata": {},
   "outputs": [],
   "source": []
  },
  {
   "cell_type": "code",
   "execution_count": null,
   "id": "eb6f0fc9",
   "metadata": {},
   "outputs": [],
   "source": []
  },
  {
   "cell_type": "code",
   "execution_count": null,
   "id": "bd975694",
   "metadata": {},
   "outputs": [],
   "source": []
  },
  {
   "cell_type": "markdown",
   "id": "1f9dda7c",
   "metadata": {},
   "source": [
    "# Q3. groupby를 사용하여 2020년의 온라인 해외판매 상품군을 지역별 합계를 구해 분석해 주세요.\n",
    "\n",
    "* 2020년은 코로나로 인해 전국민이 어려움을 겪었던 시기입니다. 또, 아마존 등의 해외 온라인 판매가 늘어난 시기이기도 합니다. 이 때, 해외 어느지역에 온라인 판매가 얼마나 되었는지를 groupby() 와 unstack()을 활용해서 합계를 구하고 분석해 주세요! 또 분석한 결과를 보고 어떤 인사이트를 얻었는지도 함께 작성해 주세요!\n",
    "\n",
    "\n",
    "* 그래프의 색상, 스타일은 자유롭게 원하는 스타일로 지정해도 됩니다."
   ]
  },
  {
   "cell_type": "code",
   "execution_count": null,
   "id": "7821b7be",
   "metadata": {},
   "outputs": [],
   "source": []
  },
  {
   "cell_type": "code",
   "execution_count": null,
   "id": "7b19bddc",
   "metadata": {},
   "outputs": [],
   "source": []
  },
  {
   "cell_type": "code",
   "execution_count": null,
   "id": "813125ec",
   "metadata": {},
   "outputs": [],
   "source": []
  },
  {
   "cell_type": "markdown",
   "id": "42052f79",
   "metadata": {},
   "source": [
    "# Q4. 주요 판매 국가와 상품군에 대해 2021년까지의 연도별 온라인 직접 판매액 합계를 시각화 해주세요.\n",
    "\n",
    "* 온라인 직접 판매액이 높은 지역은 \"미국\", \"중국\", \"일본\" 이며, 주요 판매 상품군은 \"의류 및 패션 관련상품\", \"화장품\", \"음반·비디오·악기\" 입니다. 2021년까지의 각 지역별 제품별 판매액을 시각화 해주세요!\n",
    "\n",
    "\n",
    "* 시각화 결과의 색상이나 스타일이나 스타일은 달라도 괜찮습니다"
   ]
  },
  {
   "cell_type": "code",
   "execution_count": null,
   "id": "1d1cdc01",
   "metadata": {},
   "outputs": [],
   "source": []
  },
  {
   "cell_type": "code",
   "execution_count": null,
   "id": "7e9f67f5",
   "metadata": {},
   "outputs": [],
   "source": []
  },
  {
   "cell_type": "code",
   "execution_count": null,
   "id": "dd1963dd",
   "metadata": {},
   "outputs": [],
   "source": []
  },
  {
   "cell_type": "markdown",
   "id": "49632f60",
   "metadata": {},
   "source": [
    "# Q5. KOSIS 에 있는 데이터를 하나 정해 자유롭게 분석해 주세요!\n",
    "\n",
    "* 지금까지 익힌 방법으로 다른 데이터에도 같은 방법을 통해 분석해 볼 수 있을 것입니다.\n",
    "* KOSIS(https://kosis.kr/) 사이트에서 관심있는 분야의 데이터를 찾고 원하는 시각화를 해주세요!\n",
    "* 조회조건에 계, 합계 등을 미리 제거하고 다운로드 받으면 전처리를 줄일 수 있습니다.\n",
    "* 행렬전환 기능을 사용하면 따로 melt를 진행하지 않아도 되기 때문에 이 또한 전처리를 줄일 수 있습니다."
   ]
  },
  {
   "cell_type": "code",
   "execution_count": null,
   "id": "e09db0e0",
   "metadata": {},
   "outputs": [],
   "source": []
  },
  {
   "cell_type": "code",
   "execution_count": null,
   "id": "2ca46b5d",
   "metadata": {},
   "outputs": [],
   "source": []
  },
  {
   "cell_type": "code",
   "execution_count": null,
   "id": "8edf61bc",
   "metadata": {},
   "outputs": [],
   "source": []
  },
  {
   "cell_type": "code",
   "execution_count": null,
   "id": "0894ff47",
   "metadata": {},
   "outputs": [],
   "source": []
  }
 ],
 "metadata": {
  "kernelspec": {
   "display_name": "Python 3 (ipykernel)",
   "language": "python",
   "name": "python3"
  },
  "language_info": {
   "codemirror_mode": {
    "name": "ipython",
    "version": 3
   },
   "file_extension": ".py",
   "mimetype": "text/x-python",
   "name": "python",
   "nbconvert_exporter": "python",
   "pygments_lexer": "ipython3",
   "version": "3.9.13"
  },
  "toc": {
   "base_numbering": 1,
   "nav_menu": {},
   "number_sections": true,
   "sideBar": true,
   "skip_h1_title": false,
   "title_cell": "Table of Contents",
   "title_sidebar": "Contents",
   "toc_cell": false,
   "toc_position": {},
   "toc_section_display": true,
   "toc_window_display": false
  }
 },
 "nbformat": 4,
 "nbformat_minor": 5
}
